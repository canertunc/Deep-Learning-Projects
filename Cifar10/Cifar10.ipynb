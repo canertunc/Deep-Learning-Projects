{
 "cells": [
  {
   "cell_type": "markdown",
   "id": "6d50066f-e462-4053-b783-4ce171900921",
   "metadata": {},
   "source": [
    "**I created a simple model using the cifar10 dataset with convolutional neural network.**"
   ]
  },
  {
   "cell_type": "code",
   "execution_count": 1,
   "id": "9bf26081-28c4-4475-a620-5f8e27a061d6",
   "metadata": {
    "tags": []
   },
   "outputs": [],
   "source": [
    "import pandas as pd\n",
    "import numpy as np\n",
    "import matplotlib.pyplot as plt\n",
    "import tensorflow as tf"
   ]
  },
  {
   "cell_type": "code",
   "execution_count": 2,
   "id": "f6f22ae7-581f-492f-bd4f-797125c333e5",
   "metadata": {
    "tags": []
   },
   "outputs": [],
   "source": [
    "(X_train,y_train) , (X_test,y_test) = tf.keras.datasets.cifar10.load_data()"
   ]
  },
  {
   "cell_type": "code",
   "execution_count": 3,
   "id": "e0725528-70f7-42f3-a166-3b8415fc39e3",
   "metadata": {
    "tags": []
   },
   "outputs": [],
   "source": [
    "X_val = X_train[40000:]\n",
    "y_val = y_train[40000:]"
   ]
  },
  {
   "cell_type": "code",
   "execution_count": 4,
   "id": "92260d39-7061-4243-a604-8191d137b0f9",
   "metadata": {
    "tags": []
   },
   "outputs": [],
   "source": [
    "X_train = X_train[:40000]\n",
    "y_train = y_train[:40000]"
   ]
  },
  {
   "cell_type": "code",
   "execution_count": 5,
   "id": "ed442160-a3a6-4abe-b09b-dd8b1fe1dc3c",
   "metadata": {
    "tags": []
   },
   "outputs": [],
   "source": [
    "X_train = X_train / 255.0\n",
    "X_test = X_test / 255.0\n",
    "X_val = X_val / 255.0"
   ]
  },
  {
   "cell_type": "code",
   "execution_count": 6,
   "id": "93571716-4c6d-4bb8-a7a9-2a4a91f4c5cb",
   "metadata": {
    "tags": []
   },
   "outputs": [],
   "source": [
    "cnn_model = tf.keras.models.Sequential()"
   ]
  },
  {
   "cell_type": "code",
   "execution_count": 7,
   "id": "79eca9b1-9fa3-4742-af5b-fcbba66d5f1e",
   "metadata": {
    "tags": []
   },
   "outputs": [],
   "source": [
    "cnn_model.add(tf.keras.layers.Conv2D(filters=64 ,kernel_size=(3,3),strides=(1,1),padding=\"same\",activation=\"relu\",input_shape = (32,32,3)))"
   ]
  },
  {
   "cell_type": "code",
   "execution_count": 8,
   "id": "54c97933-39b1-42b7-879e-dd1fbdb0486d",
   "metadata": {
    "tags": []
   },
   "outputs": [],
   "source": [
    "cnn_model.add(tf.keras.layers.MaxPool2D((2,2)))"
   ]
  },
  {
   "cell_type": "code",
   "execution_count": 9,
   "id": "59f5cbd9-e71c-4170-b80e-d4528c031bf6",
   "metadata": {
    "tags": []
   },
   "outputs": [],
   "source": [
    "cnn_model.add(tf.keras.layers.Conv2D(filters=48 ,kernel_size=(3,3),strides=(1,1),padding=\"same\",activation=\"relu\"))\n",
    "cnn_model.add(tf.keras.layers.MaxPool2D((2,2)))"
   ]
  },
  {
   "cell_type": "code",
   "execution_count": 10,
   "id": "a6be866e-edc7-4541-b9ae-ee836d150c22",
   "metadata": {
    "tags": []
   },
   "outputs": [],
   "source": [
    "cnn_model.add(tf.keras.layers.Conv2D(filters=32 ,kernel_size=(3,3),strides=(1,1),padding=\"same\",activation=\"relu\"))"
   ]
  },
  {
   "cell_type": "code",
   "execution_count": 11,
   "id": "e71e694e-506d-4715-93bb-cfaf86281390",
   "metadata": {
    "tags": []
   },
   "outputs": [],
   "source": [
    "cnn_model.add(tf.keras.layers.Flatten())"
   ]
  },
  {
   "cell_type": "code",
   "execution_count": 12,
   "id": "45ca1359-9e48-4ec9-9506-b7dfb5fa17ea",
   "metadata": {
    "tags": []
   },
   "outputs": [],
   "source": [
    "cnn_model.add(tf.keras.layers.Dense(units=64,activation=\"relu\"))\n",
    "cnn_model.add(tf.keras.layers.Dropout(0.5))"
   ]
  },
  {
   "cell_type": "code",
   "execution_count": 13,
   "id": "cbc949c1-5447-4e17-8567-ef11ba3cea13",
   "metadata": {
    "tags": []
   },
   "outputs": [],
   "source": [
    "cnn_model.add(tf.keras.layers.Dense(units=64,activation=\"relu\"))\n",
    "cnn_model.add(tf.keras.layers.Dropout(0.5))"
   ]
  },
  {
   "cell_type": "code",
   "execution_count": 14,
   "id": "c8aec7f8-42d5-4269-bd37-17902e2419cf",
   "metadata": {
    "tags": []
   },
   "outputs": [],
   "source": [
    "cnn_model.add(tf.keras.layers.Dense(units = 10,activation=\"softmax\"))"
   ]
  },
  {
   "cell_type": "code",
   "execution_count": 15,
   "id": "1a2d5c8a-7b10-4d96-b2d8-96bef7720c92",
   "metadata": {
    "tags": []
   },
   "outputs": [],
   "source": [
    "cnn_model.compile(optimizer=\"adam\",loss=\"sparse_categorical_crossentropy\",metrics=[\"accuracy\"])"
   ]
  },
  {
   "cell_type": "code",
   "execution_count": 16,
   "id": "9d5eb9ff-75e4-489e-bfff-2c3e0d3498ea",
   "metadata": {
    "tags": []
   },
   "outputs": [
    {
     "name": "stdout",
     "output_type": "stream",
     "text": [
      "Epoch 1/25\n",
      "313/313 [==============================] - 35s 108ms/step - loss: 2.0293 - accuracy: 0.2294 - val_loss: 1.6867 - val_accuracy: 0.3991\n",
      "Epoch 2/25\n",
      "313/313 [==============================] - 34s 108ms/step - loss: 1.6952 - accuracy: 0.3728 - val_loss: 1.5035 - val_accuracy: 0.4675\n",
      "Epoch 3/25\n",
      "313/313 [==============================] - 34s 109ms/step - loss: 1.5284 - accuracy: 0.4403 - val_loss: 1.3300 - val_accuracy: 0.5330\n",
      "Epoch 4/25\n",
      "313/313 [==============================] - 34s 109ms/step - loss: 1.4293 - accuracy: 0.4854 - val_loss: 1.2041 - val_accuracy: 0.5807\n",
      "Epoch 5/25\n",
      "313/313 [==============================] - 34s 109ms/step - loss: 1.3382 - accuracy: 0.5241 - val_loss: 1.1391 - val_accuracy: 0.6048\n",
      "Epoch 6/25\n",
      "313/313 [==============================] - 34s 109ms/step - loss: 1.2597 - accuracy: 0.5534 - val_loss: 1.0919 - val_accuracy: 0.6282\n",
      "Epoch 7/25\n",
      "313/313 [==============================] - 34s 109ms/step - loss: 1.2156 - accuracy: 0.5714 - val_loss: 1.1191 - val_accuracy: 0.6047\n",
      "Epoch 8/25\n",
      "313/313 [==============================] - 34s 109ms/step - loss: 1.1737 - accuracy: 0.5893 - val_loss: 1.0273 - val_accuracy: 0.6412\n",
      "Epoch 9/25\n",
      "313/313 [==============================] - 33s 107ms/step - loss: 1.1313 - accuracy: 0.6064 - val_loss: 0.9665 - val_accuracy: 0.6658\n",
      "Epoch 10/25\n",
      "313/313 [==============================] - 34s 107ms/step - loss: 1.1014 - accuracy: 0.6168 - val_loss: 0.9928 - val_accuracy: 0.6574\n",
      "Epoch 11/25\n",
      "313/313 [==============================] - 33s 107ms/step - loss: 1.0568 - accuracy: 0.6309 - val_loss: 0.9341 - val_accuracy: 0.6817\n",
      "Epoch 12/25\n",
      "313/313 [==============================] - 33s 107ms/step - loss: 1.0380 - accuracy: 0.6400 - val_loss: 0.9463 - val_accuracy: 0.6731\n",
      "Epoch 13/25\n",
      "313/313 [==============================] - 33s 107ms/step - loss: 1.0073 - accuracy: 0.6520 - val_loss: 0.8925 - val_accuracy: 0.7006\n",
      "Epoch 14/25\n",
      "313/313 [==============================] - 33s 107ms/step - loss: 0.9678 - accuracy: 0.6653 - val_loss: 0.9218 - val_accuracy: 0.6897\n",
      "Epoch 15/25\n",
      "313/313 [==============================] - 33s 106ms/step - loss: 0.9443 - accuracy: 0.6751 - val_loss: 0.8827 - val_accuracy: 0.7041\n",
      "Epoch 16/25\n",
      "313/313 [==============================] - 33s 107ms/step - loss: 0.9225 - accuracy: 0.6835 - val_loss: 0.8873 - val_accuracy: 0.6996\n",
      "Epoch 17/25\n",
      "313/313 [==============================] - 34s 107ms/step - loss: 0.9070 - accuracy: 0.6881 - val_loss: 0.9051 - val_accuracy: 0.6981\n",
      "Epoch 18/25\n",
      "313/313 [==============================] - 33s 107ms/step - loss: 0.8824 - accuracy: 0.6954 - val_loss: 0.8590 - val_accuracy: 0.7137\n",
      "Epoch 19/25\n",
      "313/313 [==============================] - 34s 107ms/step - loss: 0.8660 - accuracy: 0.7048 - val_loss: 0.8605 - val_accuracy: 0.7116\n",
      "Epoch 20/25\n",
      "313/313 [==============================] - 34s 107ms/step - loss: 0.8502 - accuracy: 0.7102 - val_loss: 0.9133 - val_accuracy: 0.6979\n",
      "Epoch 21/25\n",
      "313/313 [==============================] - 34s 108ms/step - loss: 0.8342 - accuracy: 0.7146 - val_loss: 0.8636 - val_accuracy: 0.7179\n",
      "Epoch 22/25\n",
      "313/313 [==============================] - 34s 107ms/step - loss: 0.8151 - accuracy: 0.7207 - val_loss: 0.8675 - val_accuracy: 0.7178\n",
      "Epoch 23/25\n",
      "313/313 [==============================] - 34s 108ms/step - loss: 0.8040 - accuracy: 0.7240 - val_loss: 0.8649 - val_accuracy: 0.7181\n",
      "Epoch 24/25\n",
      "313/313 [==============================] - 34s 108ms/step - loss: 0.7920 - accuracy: 0.7267 - val_loss: 0.8565 - val_accuracy: 0.7238\n",
      "Epoch 25/25\n",
      "313/313 [==============================] - 34s 109ms/step - loss: 0.7755 - accuracy: 0.7334 - val_loss: 0.8524 - val_accuracy: 0.7194\n"
     ]
    }
   ],
   "source": [
    "fitted_cnn_model = cnn_model.fit(X_train,y_train,epochs=25,batch_size=128,validation_data=(X_val,y_val))"
   ]
  },
  {
   "cell_type": "code",
   "execution_count": 17,
   "id": "236c70f6-954c-4f78-9563-0c456ed4ef73",
   "metadata": {},
   "outputs": [
    {
     "name": "stdout",
     "output_type": "stream",
     "text": [
      "313/313 [==============================] - 2s 8ms/step - loss: 0.8799 - accuracy: 0.7062\n"
     ]
    },
    {
     "data": {
      "text/plain": [
       "[0.8799198269844055, 0.7062000036239624]"
      ]
     },
     "execution_count": 17,
     "metadata": {},
     "output_type": "execute_result"
    }
   ],
   "source": [
    "cnn_model.evaluate(X_test,y_test)"
   ]
  },
  {
   "cell_type": "code",
   "execution_count": null,
   "id": "7f660fa4-11fd-4bc6-a124-2d9e163eab89",
   "metadata": {},
   "outputs": [],
   "source": []
  }
 ],
 "metadata": {
  "kernelspec": {
   "display_name": "Python 3 (ipykernel)",
   "language": "python",
   "name": "python3"
  },
  "language_info": {
   "codemirror_mode": {
    "name": "ipython",
    "version": 3
   },
   "file_extension": ".py",
   "mimetype": "text/x-python",
   "name": "python",
   "nbconvert_exporter": "python",
   "pygments_lexer": "ipython3",
   "version": "3.10.5"
  }
 },
 "nbformat": 4,
 "nbformat_minor": 5
}
