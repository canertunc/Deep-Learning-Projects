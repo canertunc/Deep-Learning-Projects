{
 "cells": [
  {
   "cell_type": "code",
   "execution_count": 1,
   "id": "697c4846-3528-4cd8-82f9-3da9441b046c",
   "metadata": {
    "tags": []
   },
   "outputs": [],
   "source": [
    "import numpy as np\n",
    "import tensorflow as tf\n",
    "from keras.preprocessing.image import ImageDataGenerator"
   ]
  },
  {
   "cell_type": "code",
   "execution_count": 2,
   "id": "4ade77c1-ce0b-4298-a14c-689f168ee9a3",
   "metadata": {
    "tags": []
   },
   "outputs": [
    {
     "name": "stdout",
     "output_type": "stream",
     "text": [
      "Found 10560 images belonging to 2 classes.\n"
     ]
    }
   ],
   "source": [
    "for_train = ImageDataGenerator(rescale=1.0/255,shear_range=0.3,zoom_range=0.3,horizontal_flip=True)\n",
    "train_data = for_train.flow_from_directory(\"data_sets/train\",target_size=(64,64),batch_size=32,class_mode=\"binary\")"
   ]
  },
  {
   "cell_type": "code",
   "execution_count": 3,
   "id": "a74d27ec-b63d-4b01-945e-95255957492d",
   "metadata": {},
   "outputs": [
    {
     "name": "stdout",
     "output_type": "stream",
     "text": [
      "Found 1044 images belonging to 2 classes.\n"
     ]
    }
   ],
   "source": [
    "for_valid = ImageDataGenerator(rescale=1.0/255)\n",
    "valid_data = for_valid.flow_from_directory(\"data_sets/valid\",target_size=(64,64),batch_size=32,class_mode=\"binary\")"
   ]
  },
  {
   "cell_type": "code",
   "execution_count": 4,
   "id": "d136de61-3554-443c-b783-ff259f96f819",
   "metadata": {},
   "outputs": [
    {
     "name": "stdout",
     "output_type": "stream",
     "text": [
      "Epoch 1/10\n",
      "330/330 [==============================] - 90s 269ms/step - loss: 0.1359 - accuracy: 0.9462 - val_loss: 0.0979 - val_accuracy: 0.9598\n",
      "Epoch 2/10\n",
      "330/330 [==============================] - 42s 129ms/step - loss: 0.0632 - accuracy: 0.9763 - val_loss: 0.0534 - val_accuracy: 0.9770\n",
      "Epoch 3/10\n",
      "330/330 [==============================] - 43s 129ms/step - loss: 0.0503 - accuracy: 0.9811 - val_loss: 0.0341 - val_accuracy: 0.9875\n",
      "Epoch 4/10\n",
      "330/330 [==============================] - 42s 126ms/step - loss: 0.0348 - accuracy: 0.9884 - val_loss: 0.0755 - val_accuracy: 0.9732\n",
      "Epoch 5/10\n",
      "330/330 [==============================] - 41s 123ms/step - loss: 0.0316 - accuracy: 0.9881 - val_loss: 0.0662 - val_accuracy: 0.9732\n",
      "Epoch 6/10\n",
      "330/330 [==============================] - 45s 138ms/step - loss: 0.0298 - accuracy: 0.9892 - val_loss: 0.0495 - val_accuracy: 0.9789\n",
      "Epoch 7/10\n",
      "330/330 [==============================] - 42s 126ms/step - loss: 0.0306 - accuracy: 0.9899 - val_loss: 0.0419 - val_accuracy: 0.9875\n",
      "Epoch 8/10\n",
      "330/330 [==============================] - 42s 127ms/step - loss: 0.0270 - accuracy: 0.9899 - val_loss: 0.0847 - val_accuracy: 0.9780\n",
      "Epoch 9/10\n",
      "330/330 [==============================] - 42s 126ms/step - loss: 0.0272 - accuracy: 0.9909 - val_loss: 0.0198 - val_accuracy: 0.9923\n",
      "Epoch 10/10\n",
      "330/330 [==============================] - 73s 220ms/step - loss: 0.0182 - accuracy: 0.9932 - val_loss: 0.0213 - val_accuracy: 0.9895\n"
     ]
    },
    {
     "data": {
      "text/plain": [
       "<keras.callbacks.History at 0x257022b1000>"
      ]
     },
     "execution_count": 4,
     "metadata": {},
     "output_type": "execute_result"
    }
   ],
   "source": [
    "cnn = tf.keras.models.Sequential()\n",
    "cnn.add(tf.keras.layers.Conv2D(filters = 32,kernel_size=3,activation=\"relu\",input_shape = [64,64,3]))\n",
    "cnn.add(tf.keras.layers.MaxPool2D(pool_size=2,strides=2))\n",
    "cnn.add(tf.keras.layers.Conv2D(filters = 32,kernel_size=3,activation=\"relu\"))\n",
    "cnn.add(tf.keras.layers.MaxPool2D(pool_size=2,strides=2))\n",
    "\n",
    "cnn.add(tf.keras.layers.Flatten())\n",
    "\n",
    "cnn.add(tf.keras.layers.Dense(units=128,activation=\"relu\"))\n",
    "cnn.add(tf.keras.layers.Dense(units=1,activation=\"sigmoid\"))\n",
    "\n",
    "cnn.compile(optimizer = \"adam\", loss = \"binary_crossentropy\", metrics = [\"accuracy\"])\n",
    "cnn.fit(x = train_data,validation_data=valid_data,epochs=10)"
   ]
  },
  {
   "cell_type": "code",
   "execution_count": null,
   "metadata": {},
   "outputs": [],
   "source": []
  }
 ],
 "metadata": {
  "kernelspec": {
   "display_name": "Python 3 (ipykernel)",
   "language": "python",
   "name": "python3"
  },
  "language_info": {
   "codemirror_mode": {
    "name": "ipython",
    "version": 3
   },
   "file_extension": ".py",
   "mimetype": "text/x-python",
   "name": "python",
   "nbconvert_exporter": "python",
   "pygments_lexer": "ipython3",
   "version": "3.10.5"
  }
 },
 "nbformat": 4,
 "nbformat_minor": 5
}
