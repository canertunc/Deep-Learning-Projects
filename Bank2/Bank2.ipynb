{
 "cells": [
  {
   "cell_type": "markdown",
   "id": "b4e7cdc8-defe-496f-b1df-eb3264a5ce99",
   "metadata": {},
   "source": [
    "**By creating a 'minisom' using the bank dataset, I identified the most outliers and trained them with an ann model.**"
   ]
  },
  {
   "cell_type": "code",
   "execution_count": 32,
   "id": "93f946a8-8b4c-4a6d-8475-3a07e86c5608",
   "metadata": {
    "tags": []
   },
   "outputs": [],
   "source": [
    "import pandas as pd"
   ]
  },
  {
   "cell_type": "code",
   "execution_count": 33,
   "id": "86afff4d-ff69-4a1e-92cf-ce2862434152",
   "metadata": {
    "tags": []
   },
   "outputs": [],
   "source": [
    "data = pd.read_csv(\"Churn_Modelling.csv\")"
   ]
  },
  {
   "cell_type": "code",
   "execution_count": 34,
   "id": "6826c477-5c36-4a1f-9ed0-f3424b299f98",
   "metadata": {
    "tags": []
   },
   "outputs": [
    {
     "name": "stdout",
     "output_type": "stream",
     "text": [
      "<class 'pandas.core.frame.DataFrame'>\n",
      "RangeIndex: 10000 entries, 0 to 9999\n",
      "Data columns (total 14 columns):\n",
      " #   Column           Non-Null Count  Dtype  \n",
      "---  ------           --------------  -----  \n",
      " 0   RowNumber        10000 non-null  int64  \n",
      " 1   CustomerId       10000 non-null  int64  \n",
      " 2   Surname          10000 non-null  object \n",
      " 3   CreditScore      10000 non-null  int64  \n",
      " 4   Geography        10000 non-null  object \n",
      " 5   Gender           10000 non-null  object \n",
      " 6   Age              10000 non-null  int64  \n",
      " 7   Tenure           10000 non-null  int64  \n",
      " 8   Balance          10000 non-null  float64\n",
      " 9   NumOfProducts    10000 non-null  int64  \n",
      " 10  HasCrCard        10000 non-null  int64  \n",
      " 11  IsActiveMember   10000 non-null  int64  \n",
      " 12  EstimatedSalary  10000 non-null  float64\n",
      " 13  Exited           10000 non-null  int64  \n",
      "dtypes: float64(2), int64(9), object(3)\n",
      "memory usage: 1.1+ MB\n"
     ]
    }
   ],
   "source": [
    "data.info()"
   ]
  },
  {
   "cell_type": "code",
   "execution_count": 35,
   "id": "087ad919-4f4f-4ec8-b340-6b597eb18d92",
   "metadata": {
    "tags": []
   },
   "outputs": [
    {
     "data": {
      "text/plain": [
       "RowNumber          0\n",
       "CustomerId         0\n",
       "Surname            0\n",
       "CreditScore        0\n",
       "Geography          0\n",
       "Gender             0\n",
       "Age                0\n",
       "Tenure             0\n",
       "Balance            0\n",
       "NumOfProducts      0\n",
       "HasCrCard          0\n",
       "IsActiveMember     0\n",
       "EstimatedSalary    0\n",
       "Exited             0\n",
       "dtype: int64"
      ]
     },
     "execution_count": 35,
     "metadata": {},
     "output_type": "execute_result"
    }
   ],
   "source": [
    "data.isna().sum()"
   ]
  },
  {
   "cell_type": "code",
   "execution_count": 36,
   "id": "ff4ed57b-9989-4040-aea1-d2c2ad477039",
   "metadata": {
    "tags": []
   },
   "outputs": [
    {
     "data": {
      "text/html": [
       "<div>\n",
       "<style scoped>\n",
       "    .dataframe tbody tr th:only-of-type {\n",
       "        vertical-align: middle;\n",
       "    }\n",
       "\n",
       "    .dataframe tbody tr th {\n",
       "        vertical-align: top;\n",
       "    }\n",
       "\n",
       "    .dataframe thead th {\n",
       "        text-align: right;\n",
       "    }\n",
       "</style>\n",
       "<table border=\"1\" class=\"dataframe\">\n",
       "  <thead>\n",
       "    <tr style=\"text-align: right;\">\n",
       "      <th></th>\n",
       "      <th>RowNumber</th>\n",
       "      <th>CustomerId</th>\n",
       "      <th>Surname</th>\n",
       "      <th>CreditScore</th>\n",
       "      <th>Geography</th>\n",
       "      <th>Gender</th>\n",
       "      <th>Age</th>\n",
       "      <th>Tenure</th>\n",
       "      <th>Balance</th>\n",
       "      <th>NumOfProducts</th>\n",
       "      <th>HasCrCard</th>\n",
       "      <th>IsActiveMember</th>\n",
       "      <th>EstimatedSalary</th>\n",
       "      <th>Exited</th>\n",
       "    </tr>\n",
       "  </thead>\n",
       "  <tbody>\n",
       "    <tr>\n",
       "      <th>0</th>\n",
       "      <td>1</td>\n",
       "      <td>15634602</td>\n",
       "      <td>Hargrave</td>\n",
       "      <td>619</td>\n",
       "      <td>France</td>\n",
       "      <td>Female</td>\n",
       "      <td>42</td>\n",
       "      <td>2</td>\n",
       "      <td>0.00</td>\n",
       "      <td>1</td>\n",
       "      <td>1</td>\n",
       "      <td>1</td>\n",
       "      <td>101348.88</td>\n",
       "      <td>1</td>\n",
       "    </tr>\n",
       "    <tr>\n",
       "      <th>1</th>\n",
       "      <td>2</td>\n",
       "      <td>15647311</td>\n",
       "      <td>Hill</td>\n",
       "      <td>608</td>\n",
       "      <td>Spain</td>\n",
       "      <td>Female</td>\n",
       "      <td>41</td>\n",
       "      <td>1</td>\n",
       "      <td>83807.86</td>\n",
       "      <td>1</td>\n",
       "      <td>0</td>\n",
       "      <td>1</td>\n",
       "      <td>112542.58</td>\n",
       "      <td>0</td>\n",
       "    </tr>\n",
       "    <tr>\n",
       "      <th>2</th>\n",
       "      <td>3</td>\n",
       "      <td>15619304</td>\n",
       "      <td>Onio</td>\n",
       "      <td>502</td>\n",
       "      <td>France</td>\n",
       "      <td>Female</td>\n",
       "      <td>42</td>\n",
       "      <td>8</td>\n",
       "      <td>159660.80</td>\n",
       "      <td>3</td>\n",
       "      <td>1</td>\n",
       "      <td>0</td>\n",
       "      <td>113931.57</td>\n",
       "      <td>1</td>\n",
       "    </tr>\n",
       "    <tr>\n",
       "      <th>3</th>\n",
       "      <td>4</td>\n",
       "      <td>15701354</td>\n",
       "      <td>Boni</td>\n",
       "      <td>699</td>\n",
       "      <td>France</td>\n",
       "      <td>Female</td>\n",
       "      <td>39</td>\n",
       "      <td>1</td>\n",
       "      <td>0.00</td>\n",
       "      <td>2</td>\n",
       "      <td>0</td>\n",
       "      <td>0</td>\n",
       "      <td>93826.63</td>\n",
       "      <td>0</td>\n",
       "    </tr>\n",
       "    <tr>\n",
       "      <th>4</th>\n",
       "      <td>5</td>\n",
       "      <td>15737888</td>\n",
       "      <td>Mitchell</td>\n",
       "      <td>850</td>\n",
       "      <td>Spain</td>\n",
       "      <td>Female</td>\n",
       "      <td>43</td>\n",
       "      <td>2</td>\n",
       "      <td>125510.82</td>\n",
       "      <td>1</td>\n",
       "      <td>1</td>\n",
       "      <td>1</td>\n",
       "      <td>79084.10</td>\n",
       "      <td>0</td>\n",
       "    </tr>\n",
       "  </tbody>\n",
       "</table>\n",
       "</div>"
      ],
      "text/plain": [
       "   RowNumber  CustomerId   Surname  CreditScore Geography  Gender  Age  \\\n",
       "0          1    15634602  Hargrave          619    France  Female   42   \n",
       "1          2    15647311      Hill          608     Spain  Female   41   \n",
       "2          3    15619304      Onio          502    France  Female   42   \n",
       "3          4    15701354      Boni          699    France  Female   39   \n",
       "4          5    15737888  Mitchell          850     Spain  Female   43   \n",
       "\n",
       "   Tenure    Balance  NumOfProducts  HasCrCard  IsActiveMember  \\\n",
       "0       2       0.00              1          1               1   \n",
       "1       1   83807.86              1          0               1   \n",
       "2       8  159660.80              3          1               0   \n",
       "3       1       0.00              2          0               0   \n",
       "4       2  125510.82              1          1               1   \n",
       "\n",
       "   EstimatedSalary  Exited  \n",
       "0        101348.88       1  \n",
       "1        112542.58       0  \n",
       "2        113931.57       1  \n",
       "3         93826.63       0  \n",
       "4         79084.10       0  "
      ]
     },
     "execution_count": 36,
     "metadata": {},
     "output_type": "execute_result"
    }
   ],
   "source": [
    "data.head()"
   ]
  },
  {
   "cell_type": "code",
   "execution_count": 37,
   "id": "c68c7d57-a240-45ef-b17b-fdebe144e924",
   "metadata": {
    "tags": []
   },
   "outputs": [],
   "source": [
    "X = data.drop([\"RowNumber\",\"Surname\"],axis = 1)"
   ]
  },
  {
   "cell_type": "code",
   "execution_count": 38,
   "id": "e3ee67c9-c5ee-4767-9e95-68eda4dd2e19",
   "metadata": {
    "tags": []
   },
   "outputs": [],
   "source": [
    "from sklearn.preprocessing import LabelEncoder\n",
    "le = LabelEncoder()\n",
    "\n",
    "X[\"Gender\"] =le.fit_transform(X[\"Gender\"])"
   ]
  },
  {
   "cell_type": "code",
   "execution_count": 39,
   "id": "00ad522d-b2d9-46ef-aba6-ababab806201",
   "metadata": {
    "tags": []
   },
   "outputs": [],
   "source": [
    "X = pd.get_dummies(X,[\"Geography\"])"
   ]
  },
  {
   "cell_type": "code",
   "execution_count": 40,
   "id": "1b9c2840-cceb-452a-8ecf-c4a2306822dc",
   "metadata": {
    "tags": []
   },
   "outputs": [
    {
     "data": {
      "text/html": [
       "<div>\n",
       "<style scoped>\n",
       "    .dataframe tbody tr th:only-of-type {\n",
       "        vertical-align: middle;\n",
       "    }\n",
       "\n",
       "    .dataframe tbody tr th {\n",
       "        vertical-align: top;\n",
       "    }\n",
       "\n",
       "    .dataframe thead th {\n",
       "        text-align: right;\n",
       "    }\n",
       "</style>\n",
       "<table border=\"1\" class=\"dataframe\">\n",
       "  <thead>\n",
       "    <tr style=\"text-align: right;\">\n",
       "      <th></th>\n",
       "      <th>CustomerId</th>\n",
       "      <th>CreditScore</th>\n",
       "      <th>Gender</th>\n",
       "      <th>Age</th>\n",
       "      <th>Tenure</th>\n",
       "      <th>Balance</th>\n",
       "      <th>NumOfProducts</th>\n",
       "      <th>HasCrCard</th>\n",
       "      <th>IsActiveMember</th>\n",
       "      <th>EstimatedSalary</th>\n",
       "      <th>Exited</th>\n",
       "      <th>Geography_France</th>\n",
       "      <th>Geography_Germany</th>\n",
       "      <th>Geography_Spain</th>\n",
       "    </tr>\n",
       "  </thead>\n",
       "  <tbody>\n",
       "    <tr>\n",
       "      <th>0</th>\n",
       "      <td>15634602</td>\n",
       "      <td>619</td>\n",
       "      <td>0</td>\n",
       "      <td>42</td>\n",
       "      <td>2</td>\n",
       "      <td>0.00</td>\n",
       "      <td>1</td>\n",
       "      <td>1</td>\n",
       "      <td>1</td>\n",
       "      <td>101348.88</td>\n",
       "      <td>1</td>\n",
       "      <td>1</td>\n",
       "      <td>0</td>\n",
       "      <td>0</td>\n",
       "    </tr>\n",
       "    <tr>\n",
       "      <th>1</th>\n",
       "      <td>15647311</td>\n",
       "      <td>608</td>\n",
       "      <td>0</td>\n",
       "      <td>41</td>\n",
       "      <td>1</td>\n",
       "      <td>83807.86</td>\n",
       "      <td>1</td>\n",
       "      <td>0</td>\n",
       "      <td>1</td>\n",
       "      <td>112542.58</td>\n",
       "      <td>0</td>\n",
       "      <td>0</td>\n",
       "      <td>0</td>\n",
       "      <td>1</td>\n",
       "    </tr>\n",
       "    <tr>\n",
       "      <th>2</th>\n",
       "      <td>15619304</td>\n",
       "      <td>502</td>\n",
       "      <td>0</td>\n",
       "      <td>42</td>\n",
       "      <td>8</td>\n",
       "      <td>159660.80</td>\n",
       "      <td>3</td>\n",
       "      <td>1</td>\n",
       "      <td>0</td>\n",
       "      <td>113931.57</td>\n",
       "      <td>1</td>\n",
       "      <td>1</td>\n",
       "      <td>0</td>\n",
       "      <td>0</td>\n",
       "    </tr>\n",
       "    <tr>\n",
       "      <th>3</th>\n",
       "      <td>15701354</td>\n",
       "      <td>699</td>\n",
       "      <td>0</td>\n",
       "      <td>39</td>\n",
       "      <td>1</td>\n",
       "      <td>0.00</td>\n",
       "      <td>2</td>\n",
       "      <td>0</td>\n",
       "      <td>0</td>\n",
       "      <td>93826.63</td>\n",
       "      <td>0</td>\n",
       "      <td>1</td>\n",
       "      <td>0</td>\n",
       "      <td>0</td>\n",
       "    </tr>\n",
       "    <tr>\n",
       "      <th>4</th>\n",
       "      <td>15737888</td>\n",
       "      <td>850</td>\n",
       "      <td>0</td>\n",
       "      <td>43</td>\n",
       "      <td>2</td>\n",
       "      <td>125510.82</td>\n",
       "      <td>1</td>\n",
       "      <td>1</td>\n",
       "      <td>1</td>\n",
       "      <td>79084.10</td>\n",
       "      <td>0</td>\n",
       "      <td>0</td>\n",
       "      <td>0</td>\n",
       "      <td>1</td>\n",
       "    </tr>\n",
       "  </tbody>\n",
       "</table>\n",
       "</div>"
      ],
      "text/plain": [
       "   CustomerId  CreditScore  Gender  Age  Tenure    Balance  NumOfProducts  \\\n",
       "0    15634602          619       0   42       2       0.00              1   \n",
       "1    15647311          608       0   41       1   83807.86              1   \n",
       "2    15619304          502       0   42       8  159660.80              3   \n",
       "3    15701354          699       0   39       1       0.00              2   \n",
       "4    15737888          850       0   43       2  125510.82              1   \n",
       "\n",
       "   HasCrCard  IsActiveMember  EstimatedSalary  Exited  Geography_France  \\\n",
       "0          1               1        101348.88       1                 1   \n",
       "1          0               1        112542.58       0                 0   \n",
       "2          1               0        113931.57       1                 1   \n",
       "3          0               0         93826.63       0                 1   \n",
       "4          1               1         79084.10       0                 0   \n",
       "\n",
       "   Geography_Germany  Geography_Spain  \n",
       "0                  0                0  \n",
       "1                  0                1  \n",
       "2                  0                0  \n",
       "3                  0                0  \n",
       "4                  0                1  "
      ]
     },
     "execution_count": 40,
     "metadata": {},
     "output_type": "execute_result"
    }
   ],
   "source": [
    "X.head()"
   ]
  },
  {
   "cell_type": "code",
   "execution_count": 41,
   "id": "4d9e4fc8-a61f-4d72-b0ad-83fbc9bddab7",
   "metadata": {
    "tags": []
   },
   "outputs": [],
   "source": [
    "y = X[\"Exited\"].values"
   ]
  },
  {
   "cell_type": "code",
   "execution_count": 42,
   "id": "24c5056e-5eb9-4ab3-a258-f826a0b52a0c",
   "metadata": {
    "tags": []
   },
   "outputs": [],
   "source": [
    "X = X.drop([\"Exited\"],axis = 1).values"
   ]
  },
  {
   "cell_type": "code",
   "execution_count": 43,
   "id": "963d32ad-b15c-4daf-967b-4afce4b68d4e",
   "metadata": {
    "tags": []
   },
   "outputs": [],
   "source": [
    "X_copy = X"
   ]
  },
  {
   "cell_type": "code",
   "execution_count": 44,
   "id": "36f0cd73-fd1f-4e83-b7a9-149c322ecca7",
   "metadata": {
    "tags": []
   },
   "outputs": [],
   "source": [
    "from sklearn.preprocessing import MinMaxScaler\n",
    "\n",
    "sc = MinMaxScaler(feature_range=(0,1))\n",
    "X = sc.fit_transform(X)"
   ]
  },
  {
   "cell_type": "code",
   "execution_count": 45,
   "id": "51ff6b2b-4875-4bb9-b922-c237298780ed",
   "metadata": {
    "tags": []
   },
   "outputs": [],
   "source": [
    "from minisom import MiniSom\n",
    "som = MiniSom(x=20, y=20, input_len= 13, sigma= 1.0, learning_rate = 0.5)\n",
    "som.random_weights_init(X)\n",
    "som.train_random(data = X, num_iteration = 500)"
   ]
  },
  {
   "cell_type": "code",
   "execution_count": 46,
   "id": "6a0649a2-afb8-4a48-82aa-871fed5c9eb5",
   "metadata": {
    "tags": []
   },
   "outputs": [
    {
     "data": {
      "image/png": "[encoded data removed]",
      "text/plain": [
       "<Figure size 432x288 with 2 Axes>"
      ]
     },
     "metadata": {
      "needs_background": "light"
     },
     "output_type": "display_data"
    }
   ],
   "source": [
    "from pylab import bone, pcolor, colorbar, plot, show\n",
    "bone()\n",
    "pcolor(som.distance_map().T)\n",
    "colorbar()\n",
    "markers = ['o', 's']\n",
    "colors = ['r', 'g']\n",
    "for i, x in enumerate(X):\n",
    "    w = som.winner(x)\n",
    "    plot(w[0] + 0.5,\n",
    "         w[1] + 0.5,\n",
    "         markers[y[i]],\n",
    "         markeredgecolor = colors[y[i]],\n",
    "         markerfacecolor = 'None',\n",
    "         markersize = 5,\n",
    "         markeredgewidth = 1)\n",
    "show()"
   ]
  },
  {
   "cell_type": "code",
   "execution_count": 19,
   "id": "44766391-8405-4ca7-8395-b07ac5eee581",
   "metadata": {
    "tags": []
   },
   "outputs": [],
   "source": [
    "import numpy as np"
   ]
  },
  {
   "cell_type": "code",
   "execution_count": 47,
   "id": "f05bb4dd-efc2-4474-936c-1f1adc4852a6",
   "metadata": {
    "tags": []
   },
   "outputs": [],
   "source": [
    "mappings = som.win_map(X)\n",
    "exitters = np.concatenate((mappings[(6,4)], mappings[(18,5)]), axis = 0)\n",
    "exitters = sc.inverse_transform(exitters)"
   ]
  },
  {
   "cell_type": "code",
   "execution_count": 48,
   "id": "532f79c9-edac-4a40-9802-2e04831eb9c7",
   "metadata": {
    "tags": []
   },
   "outputs": [
    {
     "name": "stdout",
     "output_type": "stream",
     "text": [
      "Exitter Customer IDs\n",
      "15641582\n",
      "15585388\n",
      "15713853\n",
      "15624528\n",
      "15583456\n",
      "15591995\n",
      "15567446\n",
      "15571221\n",
      "15660602\n",
      "15677135\n",
      "15700476\n",
      "15575417\n",
      "15685150\n",
      "15640260\n",
      "15600991\n",
      "15693018\n",
      "15617518\n",
      "15634950\n",
      "15617603\n",
      "15573893\n",
      "15566843\n",
      "15733429\n",
      "15621629\n",
      "15621210\n",
      "15630617\n",
      "15648702\n",
      "15669957\n",
      "15573280\n",
      "15597033\n",
      "15694453\n",
      "15631070\n",
      "15588622\n",
      "15607748\n",
      "15643361\n",
      "15566633\n",
      "15663164\n",
      "15606641\n",
      "15585734\n",
      "15618401\n",
      "15689886\n",
      "15621064\n",
      "15630580\n",
      "15635034\n",
      "15593280\n",
      "15569670\n",
      "15620000\n",
      "15576641\n",
      "15607230\n",
      "15595158\n",
      "15663883\n",
      "15725221\n",
      "15706217\n",
      "15706036\n",
      "15746065\n",
      "15615050\n",
      "15656822\n",
      "15613180\n",
      "15699515\n",
      "15655252\n",
      "15666559\n",
      "15662908\n",
      "15612358\n",
      "15618363\n",
      "15583394\n",
      "15704081\n",
      "15609070\n",
      "15654625\n",
      "15581871\n",
      "15608804\n",
      "15700511\n",
      "15575146\n",
      "15650591\n",
      "15718572\n",
      "15629002\n",
      "15600912\n",
      "15650437\n",
      "15579074\n",
      "15586752\n",
      "15656592\n",
      "15618203\n",
      "15574554\n",
      "15598940\n",
      "15659305\n",
      "15759244\n",
      "15615444\n",
      "15594786\n",
      "15609521\n",
      "15696175\n",
      "15809616\n",
      "15787470\n",
      "15775153\n",
      "15790497\n",
      "15779182\n",
      "15787459\n",
      "15812982\n",
      "15814998\n",
      "15713370\n",
      "15734970\n",
      "15813894\n",
      "15811985\n",
      "15784445\n",
      "15767598\n",
      "15760924\n",
      "15799924\n",
      "15813718\n",
      "15716082\n",
      "15813363\n",
      "15779492\n",
      "15812766\n",
      "15769412\n",
      "15753955\n",
      "15799635\n"
     ]
    }
   ],
   "source": [
    "print('Exitter Customer IDs')\n",
    "for i in exitters[:, 0]:\n",
    "  print(int(i))"
   ]
  },
  {
   "cell_type": "code",
   "execution_count": 49,
   "id": "c45a9ca6-a4e9-4e8d-8481-f901225f9645",
   "metadata": {
    "tags": []
   },
   "outputs": [],
   "source": [
    "customers = X_copy"
   ]
  },
  {
   "cell_type": "code",
   "execution_count": 52,
   "id": "854c4e95-c66c-4d14-829e-bc38308ecf82",
   "metadata": {
    "tags": []
   },
   "outputs": [
    {
     "data": {
      "text/plain": [
       "10000"
      ]
     },
     "execution_count": 52,
     "metadata": {},
     "output_type": "execute_result"
    }
   ],
   "source": [
    "len(data)"
   ]
  },
  {
   "cell_type": "code",
   "execution_count": 55,
   "id": "3b4eeb23-1023-480f-9d29-e5536b1c5252",
   "metadata": {
    "tags": []
   },
   "outputs": [],
   "source": [
    "is_exitter = np.zeros(len(data))\n",
    "for i in range(len(data)):\n",
    "    if data.iloc[i,1] in exitters:\n",
    "        is_exitter[i] = 1"
   ]
  },
  {
   "cell_type": "code",
   "execution_count": 56,
   "id": "12f0aa82-7f22-4e91-b162-1cf4838e64e2",
   "metadata": {
    "tags": []
   },
   "outputs": [],
   "source": [
    "from sklearn.preprocessing import StandardScaler\n",
    "sc = StandardScaler()\n",
    "customers = sc.fit_transform(customers)"
   ]
  },
  {
   "cell_type": "code",
   "execution_count": 57,
   "id": "6b334909-161e-491a-a6d6-a3e1e1c11dd7",
   "metadata": {
    "tags": []
   },
   "outputs": [],
   "source": [
    "import tensorflow as tf"
   ]
  },
  {
   "cell_type": "code",
   "execution_count": 61,
   "id": "f718f072-185f-4cef-8634-f7b9d3e09a9a",
   "metadata": {
    "tags": []
   },
   "outputs": [],
   "source": [
    "ann_model = tf.keras.models.Sequential()"
   ]
  },
  {
   "cell_type": "code",
   "execution_count": 62,
   "id": "871ac00d-8a7d-4a2c-923c-9a35ffbef1e8",
   "metadata": {
    "tags": []
   },
   "outputs": [],
   "source": [
    "ann_model.add(tf.keras.layers.Dense(units=8, activation=\"relu\"))\n",
    "ann_model.add(tf.keras.layers.Dense(units=1, activation=\"sigmoid\"))"
   ]
  },
  {
   "cell_type": "code",
   "execution_count": 65,
   "id": "458773d4-d0e0-4ae9-b992-e7e0b65f47c9",
   "metadata": {
    "tags": []
   },
   "outputs": [],
   "source": [
    "ann_model.compile(optimizer = \"adam\", loss = \"binary_crossentropy\", metrics = [\"accuracy\"])"
   ]
  },
  {
   "cell_type": "code",
   "execution_count": 66,
   "id": "c82508b5-6725-4b83-acf6-c80cb401385b",
   "metadata": {
    "tags": []
   },
   "outputs": [
    {
     "name": "stdout",
     "output_type": "stream",
     "text": [
      "Epoch 1/25\n",
      "625/625 [==============================] - 2s 2ms/step - loss: 0.2505 - accuracy: 0.9174\n",
      "Epoch 2/25\n",
      "625/625 [==============================] - 1s 2ms/step - loss: 0.0543 - accuracy: 0.9888\n",
      "Epoch 3/25\n",
      "625/625 [==============================] - 1s 2ms/step - loss: 0.0393 - accuracy: 0.9888\n",
      "Epoch 4/25\n",
      "625/625 [==============================] - 1s 2ms/step - loss: 0.0336 - accuracy: 0.9888\n",
      "Epoch 5/25\n",
      "625/625 [==============================] - 1s 2ms/step - loss: 0.0292 - accuracy: 0.9895\n",
      "Epoch 6/25\n",
      "625/625 [==============================] - 1s 2ms/step - loss: 0.0253 - accuracy: 0.9907\n",
      "Epoch 7/25\n",
      "625/625 [==============================] - 1s 2ms/step - loss: 0.0218 - accuracy: 0.9924\n",
      "Epoch 8/25\n",
      "625/625 [==============================] - 1s 2ms/step - loss: 0.0188 - accuracy: 0.9927\n",
      "Epoch 9/25\n",
      "625/625 [==============================] - 1s 2ms/step - loss: 0.0164 - accuracy: 0.9936\n",
      "Epoch 10/25\n",
      "625/625 [==============================] - 1s 2ms/step - loss: 0.0145 - accuracy: 0.9939\n",
      "Epoch 11/25\n",
      "625/625 [==============================] - 1s 2ms/step - loss: 0.0131 - accuracy: 0.9953\n",
      "Epoch 12/25\n",
      "625/625 [==============================] - 1s 2ms/step - loss: 0.0119 - accuracy: 0.9952\n",
      "Epoch 13/25\n",
      "625/625 [==============================] - 1s 2ms/step - loss: 0.0110 - accuracy: 0.9966\n",
      "Epoch 14/25\n",
      "625/625 [==============================] - 1s 2ms/step - loss: 0.0102 - accuracy: 0.9963\n",
      "Epoch 15/25\n",
      "625/625 [==============================] - 1s 2ms/step - loss: 0.0096 - accuracy: 0.9971\n",
      "Epoch 16/25\n",
      "625/625 [==============================] - 1s 2ms/step - loss: 0.0092 - accuracy: 0.9970\n",
      "Epoch 17/25\n",
      "625/625 [==============================] - 1s 2ms/step - loss: 0.0086 - accuracy: 0.9973\n",
      "Epoch 18/25\n",
      "625/625 [==============================] - 1s 2ms/step - loss: 0.0081 - accuracy: 0.9969\n",
      "Epoch 19/25\n",
      "625/625 [==============================] - 1s 2ms/step - loss: 0.0079 - accuracy: 0.9976\n",
      "Epoch 20/25\n",
      "625/625 [==============================] - 1s 2ms/step - loss: 0.0076 - accuracy: 0.9975\n",
      "Epoch 21/25\n",
      "625/625 [==============================] - 1s 2ms/step - loss: 0.0073 - accuracy: 0.9973\n",
      "Epoch 22/25\n",
      "625/625 [==============================] - 1s 2ms/step - loss: 0.0072 - accuracy: 0.9978\n",
      "Epoch 23/25\n",
      "625/625 [==============================] - 1s 2ms/step - loss: 0.0069 - accuracy: 0.9979\n",
      "Epoch 24/25\n",
      "625/625 [==============================] - 1s 2ms/step - loss: 0.0067 - accuracy: 0.9980\n",
      "Epoch 25/25\n",
      "625/625 [==============================] - 1s 2ms/step - loss: 0.0064 - accuracy: 0.9981\n"
     ]
    },
    {
     "data": {
      "text/plain": [
       "<keras.callbacks.History at 0x190a75b5720>"
      ]
     },
     "execution_count": 66,
     "metadata": {},
     "output_type": "execute_result"
    }
   ],
   "source": [
    "ann_model.fit(customers, is_exitter, batch_size = 16, epochs = 25)"
   ]
  },
  {
   "cell_type": "code",
   "execution_count": null,
   "id": "d149d11b-9b33-4526-a1c6-78c97249ab0d",
   "metadata": {},
   "outputs": [],
   "source": []
  }
 ],
 "metadata": {
  "kernelspec": {
   "display_name": "Python 3 (ipykernel)",
   "language": "python",
   "name": "python3"
  },
  "language_info": {
   "codemirror_mode": {
    "name": "ipython",
    "version": 3
   },
   "file_extension": ".py",
   "mimetype": "text/x-python",
   "name": "python",
   "nbconvert_exporter": "python",
   "pygments_lexer": "ipython3",
   "version": "3.10.5"
  }
 },
 "nbformat": 4,
 "nbformat_minor": 5
}
