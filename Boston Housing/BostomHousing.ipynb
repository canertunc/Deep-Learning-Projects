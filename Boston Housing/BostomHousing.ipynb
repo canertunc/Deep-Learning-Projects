{
  "nbformat": 4,
  "nbformat_minor": 0,
  "metadata": {
    "colab": {
      "provenance": []
    },
    "kernelspec": {
      "name": "python3",
      "display_name": "Python 3"
    },
    "language_info": {
      "name": "python"
    },
    "accelerator": "GPU",
    "gpuClass": "standard"
  },
  "cells": [
    {
      "cell_type": "markdown",
      "source": [
        "\n",
        "**I tried to find the model that worked best using different models in the Boston housing dataset.**"
      ],
      "metadata": {
        "id": "gJQPoVGLL_My"
      }
    },
    {
      "cell_type": "code",
      "execution_count": 2,
      "metadata": {
        "id": "O0iOd4gi4sMy"
      },
      "outputs": [],
      "source": [
        "import tensorflow as tf"
      ]
    },
    {
      "cell_type": "code",
      "source": [
        "(x_train, y_train), (x_test, y_test) = tf.keras.datasets.boston_housing.load_data()"
      ],
      "metadata": {
        "id": "kPFKledV6xBm"
      },
      "execution_count": 3,
      "outputs": []
    },
    {
      "cell_type": "code",
      "source": [
        "x_train[:5]"
      ],
      "metadata": {
        "colab": {
          "base_uri": "https://localhost:8080/"
        },
        "id": "59zQZpho6xOQ",
        "outputId": "b40f005f-233e-4974-9711-bd13856fc26f"
      },
      "execution_count": 10,
      "outputs": [
        {
          "output_type": "execute_result",
          "data": {
            "text/plain": [
              "array([[1.23247e+00, 0.00000e+00, 8.14000e+00, 0.00000e+00, 5.38000e-01,\n",
              "        6.14200e+00, 9.17000e+01, 3.97690e+00, 4.00000e+00, 3.07000e+02,\n",
              "        2.10000e+01, 3.96900e+02, 1.87200e+01],\n",
              "       [2.17700e-02, 8.25000e+01, 2.03000e+00, 0.00000e+00, 4.15000e-01,\n",
              "        7.61000e+00, 1.57000e+01, 6.27000e+00, 2.00000e+00, 3.48000e+02,\n",
              "        1.47000e+01, 3.95380e+02, 3.11000e+00],\n",
              "       [4.89822e+00, 0.00000e+00, 1.81000e+01, 0.00000e+00, 6.31000e-01,\n",
              "        4.97000e+00, 1.00000e+02, 1.33250e+00, 2.40000e+01, 6.66000e+02,\n",
              "        2.02000e+01, 3.75520e+02, 3.26000e+00],\n",
              "       [3.96100e-02, 0.00000e+00, 5.19000e+00, 0.00000e+00, 5.15000e-01,\n",
              "        6.03700e+00, 3.45000e+01, 5.98530e+00, 5.00000e+00, 2.24000e+02,\n",
              "        2.02000e+01, 3.96900e+02, 8.01000e+00],\n",
              "       [3.69311e+00, 0.00000e+00, 1.81000e+01, 0.00000e+00, 7.13000e-01,\n",
              "        6.37600e+00, 8.84000e+01, 2.56710e+00, 2.40000e+01, 6.66000e+02,\n",
              "        2.02000e+01, 3.91430e+02, 1.46500e+01]])"
            ]
          },
          "metadata": {},
          "execution_count": 10
        }
      ]
    },
    {
      "cell_type": "code",
      "source": [
        "y_train[:5]"
      ],
      "metadata": {
        "colab": {
          "base_uri": "https://localhost:8080/"
        },
        "id": "0cSFDSWV6xQn",
        "outputId": "74d35ab5-8c8a-49e4-a681-e0bc216acf6f"
      },
      "execution_count": 12,
      "outputs": [
        {
          "output_type": "execute_result",
          "data": {
            "text/plain": [
              "array([15.2, 42.3, 50. , 21.1, 17.7])"
            ]
          },
          "metadata": {},
          "execution_count": 12
        }
      ]
    },
    {
      "cell_type": "code",
      "source": [
        "print(len(x_train))\n",
        "print(len(x_test))"
      ],
      "metadata": {
        "colab": {
          "base_uri": "https://localhost:8080/"
        },
        "id": "ysGgSHD-6xTd",
        "outputId": "1520cd32-0bbe-4796-b781-485bf09af61f"
      },
      "execution_count": 13,
      "outputs": [
        {
          "output_type": "stream",
          "name": "stdout",
          "text": [
            "404\n",
            "102\n"
          ]
        }
      ]
    },
    {
      "cell_type": "code",
      "source": [
        "from sklearn.model_selection import train_test_split\n",
        "\n",
        "x_test,x_val,y_test,y_val = train_test_split(x_test,y_test,test_size=0.5,random_state = 58)"
      ],
      "metadata": {
        "id": "a2lbMKCh6xWK"
      },
      "execution_count": 4,
      "outputs": []
    },
    {
      "cell_type": "code",
      "source": [
        "from sklearn.preprocessing import StandardScaler\n",
        "sc = StandardScaler()\n",
        "\n",
        "x_train = sc.fit_transform(x_train) \n",
        "x_test = sc.transform(x_test)\n",
        "x_val = sc.transform(x_val)"
      ],
      "metadata": {
        "id": "rr1M0Xiu6xYP"
      },
      "execution_count": 5,
      "outputs": []
    },
    {
      "cell_type": "code",
      "source": [
        "x_train.shape"
      ],
      "metadata": {
        "colab": {
          "base_uri": "https://localhost:8080/"
        },
        "id": "0Xtufoa29g6A",
        "outputId": "eb25a9c8-ddd1-46d5-f699-7de4b6afb97f"
      },
      "execution_count": 21,
      "outputs": [
        {
          "output_type": "execute_result",
          "data": {
            "text/plain": [
              "(404, 13)"
            ]
          },
          "metadata": {},
          "execution_count": 21
        }
      ]
    },
    {
      "cell_type": "code",
      "source": [
        "ann_model = tf.keras.models.Sequential()\n",
        "\n",
        "ann_model.add(tf.keras.layers.Dense(units = 128,activation=\"relu\"))\n",
        "ann_model.add(tf.keras.layers.Dropout((0.3)))\n",
        "ann_model.add(tf.keras.layers.Dense(units = 128,activation=\"relu\"))\n",
        "ann_model.add(tf.keras.layers.Dropout((0.3)))\n",
        "\n",
        "ann_model.add(tf.keras.layers.Dense(units = 1 , activation=\"linear\"))\n",
        "\n",
        "ann_model.compile(optimizer=\"adam\" , loss = \"mean_squared_error\",metrics = [\"mae\"])\n",
        "\n",
        "fitted_ann_model = ann_model.fit(x_train,y_train,epochs=50,batch_size= 4 ,validation_data=(x_val,y_val))"
      ],
      "metadata": {
        "colab": {
          "base_uri": "https://localhost:8080/"
        },
        "id": "BRtNvnTR6xav",
        "outputId": "5980f8ed-391f-43a2-dc8f-d42e8409ebb5"
      },
      "execution_count": 53,
      "outputs": [
        {
          "output_type": "stream",
          "name": "stdout",
          "text": [
            "Epoch 1/50\n",
            "101/101 [==============================] - 2s 5ms/step - loss: 276.4594 - mae: 13.7703 - val_loss: 51.2996 - val_mae: 5.4740\n",
            "Epoch 2/50\n",
            "101/101 [==============================] - 0s 3ms/step - loss: 44.0062 - mae: 4.8520 - val_loss: 27.3342 - val_mae: 4.0448\n",
            "Epoch 3/50\n",
            "101/101 [==============================] - 0s 4ms/step - loss: 30.9466 - mae: 4.0567 - val_loss: 26.9236 - val_mae: 3.8899\n",
            "Epoch 4/50\n",
            "101/101 [==============================] - 0s 4ms/step - loss: 29.2249 - mae: 3.7814 - val_loss: 27.6585 - val_mae: 3.7472\n",
            "Epoch 5/50\n",
            "101/101 [==============================] - 0s 4ms/step - loss: 21.8297 - mae: 3.4325 - val_loss: 29.4606 - val_mae: 3.8176\n",
            "Epoch 6/50\n",
            "101/101 [==============================] - 0s 4ms/step - loss: 23.0356 - mae: 3.5169 - val_loss: 30.7513 - val_mae: 3.6410\n",
            "Epoch 7/50\n",
            "101/101 [==============================] - 0s 4ms/step - loss: 19.8428 - mae: 3.3236 - val_loss: 33.7407 - val_mae: 3.7534\n",
            "Epoch 8/50\n",
            "101/101 [==============================] - 0s 3ms/step - loss: 23.4904 - mae: 3.5755 - val_loss: 28.9030 - val_mae: 3.6530\n",
            "Epoch 9/50\n",
            "101/101 [==============================] - 0s 4ms/step - loss: 20.8733 - mae: 3.3248 - val_loss: 31.1262 - val_mae: 3.5148\n",
            "Epoch 10/50\n",
            "101/101 [==============================] - 0s 3ms/step - loss: 18.0460 - mae: 3.1726 - val_loss: 34.8030 - val_mae: 3.6653\n",
            "Epoch 11/50\n",
            "101/101 [==============================] - 0s 4ms/step - loss: 17.6277 - mae: 3.0061 - val_loss: 35.5598 - val_mae: 3.7311\n",
            "Epoch 12/50\n",
            "101/101 [==============================] - 0s 3ms/step - loss: 16.7018 - mae: 3.1564 - val_loss: 38.4118 - val_mae: 3.7763\n",
            "Epoch 13/50\n",
            "101/101 [==============================] - 0s 4ms/step - loss: 17.4500 - mae: 3.2022 - val_loss: 33.4438 - val_mae: 3.5700\n",
            "Epoch 14/50\n",
            "101/101 [==============================] - 0s 4ms/step - loss: 17.1416 - mae: 3.1427 - val_loss: 30.7955 - val_mae: 3.3940\n",
            "Epoch 15/50\n",
            "101/101 [==============================] - 0s 4ms/step - loss: 17.4389 - mae: 3.0714 - val_loss: 26.3570 - val_mae: 3.2165\n",
            "Epoch 16/50\n",
            "101/101 [==============================] - 0s 4ms/step - loss: 20.5988 - mae: 3.3168 - val_loss: 35.9710 - val_mae: 3.6049\n",
            "Epoch 17/50\n",
            "101/101 [==============================] - 1s 6ms/step - loss: 17.1417 - mae: 3.1964 - val_loss: 29.7301 - val_mae: 3.2389\n",
            "Epoch 18/50\n",
            "101/101 [==============================] - 1s 5ms/step - loss: 16.0361 - mae: 2.9908 - val_loss: 32.8983 - val_mae: 3.4595\n",
            "Epoch 19/50\n",
            "101/101 [==============================] - 1s 6ms/step - loss: 17.4314 - mae: 3.1897 - val_loss: 29.1285 - val_mae: 3.2843\n",
            "Epoch 20/50\n",
            "101/101 [==============================] - 0s 5ms/step - loss: 16.2686 - mae: 3.0765 - val_loss: 29.9523 - val_mae: 3.6035\n",
            "Epoch 21/50\n",
            "101/101 [==============================] - 0s 4ms/step - loss: 15.4839 - mae: 2.9637 - val_loss: 35.4110 - val_mae: 3.6990\n",
            "Epoch 22/50\n",
            "101/101 [==============================] - 0s 3ms/step - loss: 16.3301 - mae: 3.0584 - val_loss: 27.0789 - val_mae: 3.3901\n",
            "Epoch 23/50\n",
            "101/101 [==============================] - 0s 4ms/step - loss: 17.1760 - mae: 3.0457 - val_loss: 29.0686 - val_mae: 3.2307\n",
            "Epoch 24/50\n",
            "101/101 [==============================] - 0s 4ms/step - loss: 16.7637 - mae: 3.0632 - val_loss: 30.2279 - val_mae: 3.2410\n",
            "Epoch 25/50\n",
            "101/101 [==============================] - 0s 3ms/step - loss: 18.4667 - mae: 3.1540 - val_loss: 33.4893 - val_mae: 3.6253\n",
            "Epoch 26/50\n",
            "101/101 [==============================] - 0s 3ms/step - loss: 16.2103 - mae: 2.9630 - val_loss: 30.0507 - val_mae: 3.2932\n",
            "Epoch 27/50\n",
            "101/101 [==============================] - 0s 4ms/step - loss: 16.7091 - mae: 2.9973 - val_loss: 35.9327 - val_mae: 3.8004\n",
            "Epoch 28/50\n",
            "101/101 [==============================] - 0s 4ms/step - loss: 17.6324 - mae: 3.1282 - val_loss: 29.7471 - val_mae: 3.3051\n",
            "Epoch 29/50\n",
            "101/101 [==============================] - 0s 4ms/step - loss: 18.1200 - mae: 3.1717 - val_loss: 36.9148 - val_mae: 4.0757\n",
            "Epoch 30/50\n",
            "101/101 [==============================] - 0s 3ms/step - loss: 19.6479 - mae: 3.2776 - val_loss: 33.7332 - val_mae: 3.4290\n",
            "Epoch 31/50\n",
            "101/101 [==============================] - 0s 4ms/step - loss: 15.9754 - mae: 3.0248 - val_loss: 32.5112 - val_mae: 3.2829\n",
            "Epoch 32/50\n",
            "101/101 [==============================] - 0s 4ms/step - loss: 13.9994 - mae: 2.7430 - val_loss: 29.4656 - val_mae: 3.3582\n",
            "Epoch 33/50\n",
            "101/101 [==============================] - 0s 4ms/step - loss: 15.2228 - mae: 2.8518 - val_loss: 27.5419 - val_mae: 3.2767\n",
            "Epoch 34/50\n",
            "101/101 [==============================] - 0s 4ms/step - loss: 15.9725 - mae: 2.9654 - val_loss: 27.0128 - val_mae: 3.3795\n",
            "Epoch 35/50\n",
            "101/101 [==============================] - 0s 4ms/step - loss: 15.8000 - mae: 2.9987 - val_loss: 25.4645 - val_mae: 3.0496\n",
            "Epoch 36/50\n",
            "101/101 [==============================] - 0s 4ms/step - loss: 15.3253 - mae: 2.9542 - val_loss: 39.5138 - val_mae: 3.9236\n",
            "Epoch 37/50\n",
            "101/101 [==============================] - 0s 3ms/step - loss: 17.1102 - mae: 3.0929 - val_loss: 26.5046 - val_mae: 2.9656\n",
            "Epoch 38/50\n",
            "101/101 [==============================] - 0s 3ms/step - loss: 18.4602 - mae: 3.1107 - val_loss: 34.2211 - val_mae: 3.6844\n",
            "Epoch 39/50\n",
            "101/101 [==============================] - 0s 3ms/step - loss: 14.0164 - mae: 2.8179 - val_loss: 30.0558 - val_mae: 3.2907\n",
            "Epoch 40/50\n",
            "101/101 [==============================] - 0s 4ms/step - loss: 16.4203 - mae: 3.0446 - val_loss: 24.2880 - val_mae: 2.9327\n",
            "Epoch 41/50\n",
            "101/101 [==============================] - 0s 4ms/step - loss: 15.1474 - mae: 2.8126 - val_loss: 38.0476 - val_mae: 3.9782\n",
            "Epoch 42/50\n",
            "101/101 [==============================] - 0s 4ms/step - loss: 15.6322 - mae: 2.9239 - val_loss: 28.9127 - val_mae: 3.2913\n",
            "Epoch 43/50\n",
            "101/101 [==============================] - 0s 3ms/step - loss: 14.6223 - mae: 2.8825 - val_loss: 32.8490 - val_mae: 3.2626\n",
            "Epoch 44/50\n",
            "101/101 [==============================] - 0s 4ms/step - loss: 15.6380 - mae: 2.9715 - val_loss: 27.6224 - val_mae: 3.1863\n",
            "Epoch 45/50\n",
            "101/101 [==============================] - 0s 4ms/step - loss: 14.1998 - mae: 2.8181 - val_loss: 23.9433 - val_mae: 2.8958\n",
            "Epoch 46/50\n",
            "101/101 [==============================] - 0s 4ms/step - loss: 13.9895 - mae: 2.7755 - val_loss: 27.6627 - val_mae: 3.1583\n",
            "Epoch 47/50\n",
            "101/101 [==============================] - 1s 6ms/step - loss: 14.0874 - mae: 2.7312 - val_loss: 32.1077 - val_mae: 3.5411\n",
            "Epoch 48/50\n",
            "101/101 [==============================] - 1s 5ms/step - loss: 16.0593 - mae: 2.9835 - val_loss: 30.4986 - val_mae: 3.2162\n",
            "Epoch 49/50\n",
            "101/101 [==============================] - 1s 6ms/step - loss: 15.2482 - mae: 2.7155 - val_loss: 31.1882 - val_mae: 3.1613\n",
            "Epoch 50/50\n",
            "101/101 [==============================] - 1s 6ms/step - loss: 13.9560 - mae: 2.8117 - val_loss: 27.8476 - val_mae: 3.3361\n"
          ]
        }
      ]
    },
    {
      "cell_type": "code",
      "source": [
        "ann_model.evaluate(x_test,y_test)"
      ],
      "metadata": {
        "colab": {
          "base_uri": "https://localhost:8080/"
        },
        "id": "UCXHoheGA_OB",
        "outputId": "3f33b8e0-a5b7-4143-df1e-3f3c3daba6b2"
      },
      "execution_count": 54,
      "outputs": [
        {
          "output_type": "stream",
          "name": "stdout",
          "text": [
            "2/2 [==============================] - 0s 9ms/step - loss: 12.2702 - mae: 2.6966\n"
          ]
        },
        {
          "output_type": "execute_result",
          "data": {
            "text/plain": [
              "[12.27016544342041, 2.6966166496276855]"
            ]
          },
          "metadata": {},
          "execution_count": 54
        }
      ]
    },
    {
      "cell_type": "code",
      "source": [
        "from sklearn import svm"
      ],
      "metadata": {
        "id": "9jHyJlFx9hmI"
      },
      "execution_count": 55,
      "outputs": []
    },
    {
      "cell_type": "code",
      "source": [
        "svm_model = svm.SVR()\n",
        "svm_model.fit(x_train,y_train)\n",
        "predict_svm = svm_model.predict(x_test)"
      ],
      "metadata": {
        "id": "Nv4RjN6x9h4N"
      },
      "execution_count": 60,
      "outputs": []
    },
    {
      "cell_type": "code",
      "source": [
        "from sklearn.metrics import mean_absolute_error\n",
        "mean_absolute_error(y_test,predict_svm)"
      ],
      "metadata": {
        "colab": {
          "base_uri": "https://localhost:8080/"
        },
        "id": "vFpkUhbV6xdA",
        "outputId": "5404480d-97a8-4a4d-91e8-d2f1bb257038"
      },
      "execution_count": 61,
      "outputs": [
        {
          "output_type": "execute_result",
          "data": {
            "text/plain": [
              "3.6536811561464533"
            ]
          },
          "metadata": {},
          "execution_count": 61
        }
      ]
    },
    {
      "cell_type": "code",
      "source": [
        "y_train = y_train.reshape(-1,1)\n",
        "y_test = y_test.reshape(-1,1)"
      ],
      "metadata": {
        "id": "yHSzZ9jQKZBS"
      },
      "execution_count": 11,
      "outputs": []
    },
    {
      "cell_type": "code",
      "source": [
        "from sklearn.linear_model import LinearRegression\n",
        "from sklearn.preprocessing import PolynomialFeatures\n",
        "import numpy as np\n",
        "from sklearn.metrics import mean_absolute_error\n",
        "\n",
        "poly_degree = 2\n",
        "\n",
        "poly_features = PolynomialFeatures(degree=poly_degree)\n",
        "\n",
        "x_train_poly = poly_features.fit_transform(x_train)\n",
        "x_test_poly = poly_features.transform(x_test)\n",
        "\n",
        "poly_reg = LinearRegression()\n",
        "poly_reg.fit(x_train_poly, y_train)"
      ],
      "metadata": {
        "colab": {
          "base_uri": "https://localhost:8080/",
          "height": 74
        },
        "id": "B98zXQKuHBmL",
        "outputId": "ad74497f-6eee-48b7-c0bd-4191560a511f"
      },
      "execution_count": 22,
      "outputs": [
        {
          "output_type": "execute_result",
          "data": {
            "text/plain": [
              "LinearRegression()"
            ],
            "text/html": [
              "<style>#sk-container-id-8 {color: black;background-color: white;}#sk-container-id-8 pre{padding: 0;}#sk-container-id-8 div.sk-toggleable {background-color: white;}#sk-container-id-8 label.sk-toggleable__label {cursor: pointer;display: block;width: 100%;margin-bottom: 0;padding: 0.3em;box-sizing: border-box;text-align: center;}#sk-container-id-8 label.sk-toggleable__label-arrow:before {content: \"▸\";float: left;margin-right: 0.25em;color: #696969;}#sk-container-id-8 label.sk-toggleable__label-arrow:hover:before {color: black;}#sk-container-id-8 div.sk-estimator:hover label.sk-toggleable__label-arrow:before {color: black;}#sk-container-id-8 div.sk-toggleable__content {max-height: 0;max-width: 0;overflow: hidden;text-align: left;background-color: #f0f8ff;}#sk-container-id-8 div.sk-toggleable__content pre {margin: 0.2em;color: black;border-radius: 0.25em;background-color: #f0f8ff;}#sk-container-id-8 input.sk-toggleable__control:checked~div.sk-toggleable__content {max-height: 200px;max-width: 100%;overflow: auto;}#sk-container-id-8 input.sk-toggleable__control:checked~label.sk-toggleable__label-arrow:before {content: \"▾\";}#sk-container-id-8 div.sk-estimator input.sk-toggleable__control:checked~label.sk-toggleable__label {background-color: #d4ebff;}#sk-container-id-8 div.sk-label input.sk-toggleable__control:checked~label.sk-toggleable__label {background-color: #d4ebff;}#sk-container-id-8 input.sk-hidden--visually {border: 0;clip: rect(1px 1px 1px 1px);clip: rect(1px, 1px, 1px, 1px);height: 1px;margin: -1px;overflow: hidden;padding: 0;position: absolute;width: 1px;}#sk-container-id-8 div.sk-estimator {font-family: monospace;background-color: #f0f8ff;border: 1px dotted black;border-radius: 0.25em;box-sizing: border-box;margin-bottom: 0.5em;}#sk-container-id-8 div.sk-estimator:hover {background-color: #d4ebff;}#sk-container-id-8 div.sk-parallel-item::after {content: \"\";width: 100%;border-bottom: 1px solid gray;flex-grow: 1;}#sk-container-id-8 div.sk-label:hover label.sk-toggleable__label {background-color: #d4ebff;}#sk-container-id-8 div.sk-serial::before {content: \"\";position: absolute;border-left: 1px solid gray;box-sizing: border-box;top: 0;bottom: 0;left: 50%;z-index: 0;}#sk-container-id-8 div.sk-serial {display: flex;flex-direction: column;align-items: center;background-color: white;padding-right: 0.2em;padding-left: 0.2em;position: relative;}#sk-container-id-8 div.sk-item {position: relative;z-index: 1;}#sk-container-id-8 div.sk-parallel {display: flex;align-items: stretch;justify-content: center;background-color: white;position: relative;}#sk-container-id-8 div.sk-item::before, #sk-container-id-8 div.sk-parallel-item::before {content: \"\";position: absolute;border-left: 1px solid gray;box-sizing: border-box;top: 0;bottom: 0;left: 50%;z-index: -1;}#sk-container-id-8 div.sk-parallel-item {display: flex;flex-direction: column;z-index: 1;position: relative;background-color: white;}#sk-container-id-8 div.sk-parallel-item:first-child::after {align-self: flex-end;width: 50%;}#sk-container-id-8 div.sk-parallel-item:last-child::after {align-self: flex-start;width: 50%;}#sk-container-id-8 div.sk-parallel-item:only-child::after {width: 0;}#sk-container-id-8 div.sk-dashed-wrapped {border: 1px dashed gray;margin: 0 0.4em 0.5em 0.4em;box-sizing: border-box;padding-bottom: 0.4em;background-color: white;}#sk-container-id-8 div.sk-label label {font-family: monospace;font-weight: bold;display: inline-block;line-height: 1.2em;}#sk-container-id-8 div.sk-label-container {text-align: center;}#sk-container-id-8 div.sk-container {/* jupyter's `normalize.less` sets `[hidden] { display: none; }` but bootstrap.min.css set `[hidden] { display: none !important; }` so we also need the `!important` here to be able to override the default hidden behavior on the sphinx rendered scikit-learn.org. See: https://github.com/scikit-learn/scikit-learn/issues/21755 */display: inline-block !important;position: relative;}#sk-container-id-8 div.sk-text-repr-fallback {display: none;}</style><div id=\"sk-container-id-8\" class=\"sk-top-container\"><div class=\"sk-text-repr-fallback\"><pre>LinearRegression()</pre><b>In a Jupyter environment, please rerun this cell to show the HTML representation or trust the notebook. <br />On GitHub, the HTML representation is unable to render, please try loading this page with nbviewer.org.</b></div><div class=\"sk-container\" hidden><div class=\"sk-item\"><div class=\"sk-estimator sk-toggleable\"><input class=\"sk-toggleable__control sk-hidden--visually\" id=\"sk-estimator-id-8\" type=\"checkbox\" checked><label for=\"sk-estimator-id-8\" class=\"sk-toggleable__label sk-toggleable__label-arrow\">LinearRegression</label><div class=\"sk-toggleable__content\"><pre>LinearRegression()</pre></div></div></div></div></div>"
            ]
          },
          "metadata": {},
          "execution_count": 22
        }
      ]
    },
    {
      "cell_type": "code",
      "source": [
        "predict_poly = poly_reg.predict(x_test_poly)\n",
        "mean_absolute_error(y_test,predict_poly)"
      ],
      "metadata": {
        "colab": {
          "base_uri": "https://localhost:8080/"
        },
        "id": "135c5ZAuIjEk",
        "outputId": "880571cc-a81b-49ea-9cca-3ee03fe6c375"
      },
      "execution_count": 23,
      "outputs": [
        {
          "output_type": "execute_result",
          "data": {
            "text/plain": [
              "2.7496323529411764"
            ]
          },
          "metadata": {},
          "execution_count": 23
        }
      ]
    },
    {
      "cell_type": "code",
      "source": [],
      "metadata": {
        "id": "ERh-tUvkJIlx"
      },
      "execution_count": null,
      "outputs": []
    },
    {
      "cell_type": "markdown",
      "source": [
        "1.   Ann model --> mean absolute error = 2.70\n",
        "2.   Polynomial LR model --> mean absolute error = 2.75\n",
        "3.   Svm model --> mean absolute error = 3.65"
      ],
      "metadata": {
        "id": "xKTZIawFK_lN"
      }
    }
  ]
}