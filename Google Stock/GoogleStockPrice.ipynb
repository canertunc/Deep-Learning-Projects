{
 "cells": [
  {
   "cell_type": "markdown",
   "id": "4d307c0c-48e4-401c-9735-958bcc7780a0",
   "metadata": {},
   "source": [
    "**I tried to guess the opening price of google stock with recurrent neural network.**"
   ]
  },
  {
   "cell_type": "code",
   "execution_count": 2,
   "id": "2997f396-b603-4b9a-886a-db74cbae1e1c",
   "metadata": {
    "tags": []
   },
   "outputs": [],
   "source": [
    "import numpy as np\n",
    "import pandas as pd\n",
    "import warnings\n",
    "warnings.filterwarnings('ignore')"
   ]
  },
  {
   "cell_type": "code",
   "execution_count": 56,
   "id": "6af90c2b-d097-4725-b1f6-89236460849f",
   "metadata": {
    "tags": []
   },
   "outputs": [],
   "source": [
    "train_dataset = pd.read_csv(\"Google_Stock_Price_Train.csv\") "
   ]
  },
  {
   "cell_type": "code",
   "execution_count": 57,
   "id": "ce9f6a1d-a523-423f-b75e-0784823196be",
   "metadata": {
    "tags": []
   },
   "outputs": [
    {
     "data": {
      "text/html": [
       "<div>\n",
       "<style scoped>\n",
       "    .dataframe tbody tr th:only-of-type {\n",
       "        vertical-align: middle;\n",
       "    }\n",
       "\n",
       "    .dataframe tbody tr th {\n",
       "        vertical-align: top;\n",
       "    }\n",
       "\n",
       "    .dataframe thead th {\n",
       "        text-align: right;\n",
       "    }\n",
       "</style>\n",
       "<table border=\"1\" class=\"dataframe\">\n",
       "  <thead>\n",
       "    <tr style=\"text-align: right;\">\n",
       "      <th></th>\n",
       "      <th>Date</th>\n",
       "      <th>Open</th>\n",
       "      <th>High</th>\n",
       "      <th>Low</th>\n",
       "      <th>Close</th>\n",
       "      <th>Volume</th>\n",
       "    </tr>\n",
       "  </thead>\n",
       "  <tbody>\n",
       "    <tr>\n",
       "      <th>0</th>\n",
       "      <td>1/3/2012</td>\n",
       "      <td>325.25</td>\n",
       "      <td>332.83</td>\n",
       "      <td>324.97</td>\n",
       "      <td>663.59</td>\n",
       "      <td>7,380,500</td>\n",
       "    </tr>\n",
       "    <tr>\n",
       "      <th>1</th>\n",
       "      <td>1/4/2012</td>\n",
       "      <td>331.27</td>\n",
       "      <td>333.87</td>\n",
       "      <td>329.08</td>\n",
       "      <td>666.45</td>\n",
       "      <td>5,749,400</td>\n",
       "    </tr>\n",
       "    <tr>\n",
       "      <th>2</th>\n",
       "      <td>1/5/2012</td>\n",
       "      <td>329.83</td>\n",
       "      <td>330.75</td>\n",
       "      <td>326.89</td>\n",
       "      <td>657.21</td>\n",
       "      <td>6,590,300</td>\n",
       "    </tr>\n",
       "    <tr>\n",
       "      <th>3</th>\n",
       "      <td>1/6/2012</td>\n",
       "      <td>328.34</td>\n",
       "      <td>328.77</td>\n",
       "      <td>323.68</td>\n",
       "      <td>648.24</td>\n",
       "      <td>5,405,900</td>\n",
       "    </tr>\n",
       "    <tr>\n",
       "      <th>4</th>\n",
       "      <td>1/9/2012</td>\n",
       "      <td>322.04</td>\n",
       "      <td>322.29</td>\n",
       "      <td>309.46</td>\n",
       "      <td>620.76</td>\n",
       "      <td>11,688,800</td>\n",
       "    </tr>\n",
       "  </tbody>\n",
       "</table>\n",
       "</div>"
      ],
      "text/plain": [
       "       Date    Open    High     Low   Close      Volume\n",
       "0  1/3/2012  325.25  332.83  324.97  663.59   7,380,500\n",
       "1  1/4/2012  331.27  333.87  329.08  666.45   5,749,400\n",
       "2  1/5/2012  329.83  330.75  326.89  657.21   6,590,300\n",
       "3  1/6/2012  328.34  328.77  323.68  648.24   5,405,900\n",
       "4  1/9/2012  322.04  322.29  309.46  620.76  11,688,800"
      ]
     },
     "execution_count": 57,
     "metadata": {},
     "output_type": "execute_result"
    }
   ],
   "source": [
    "train_dataset.head()"
   ]
  },
  {
   "cell_type": "code",
   "execution_count": 58,
   "id": "cbd7dfcf-70f2-417d-ba81-05018808aacb",
   "metadata": {
    "tags": []
   },
   "outputs": [
    {
     "name": "stdout",
     "output_type": "stream",
     "text": [
      "<class 'pandas.core.frame.DataFrame'>\n",
      "RangeIndex: 1258 entries, 0 to 1257\n",
      "Data columns (total 6 columns):\n",
      " #   Column  Non-Null Count  Dtype  \n",
      "---  ------  --------------  -----  \n",
      " 0   Date    1258 non-null   object \n",
      " 1   Open    1258 non-null   float64\n",
      " 2   High    1258 non-null   float64\n",
      " 3   Low     1258 non-null   float64\n",
      " 4   Close   1258 non-null   object \n",
      " 5   Volume  1258 non-null   object \n",
      "dtypes: float64(3), object(3)\n",
      "memory usage: 59.1+ KB\n"
     ]
    }
   ],
   "source": [
    "train_dataset.info()"
   ]
  },
  {
   "cell_type": "code",
   "execution_count": 59,
   "id": "90a767a8-55ac-4cf3-9ca3-d98985dfda1f",
   "metadata": {
    "tags": []
   },
   "outputs": [
    {
     "data": {
      "text/plain": [
       "0        7,380,500\n",
       "1        5,749,400\n",
       "2        6,590,300\n",
       "3        5,405,900\n",
       "4       11,688,800\n",
       "           ...    \n",
       "1253       623,400\n",
       "1254       789,100\n",
       "1255     1,153,800\n",
       "1256       744,300\n",
       "1257     1,770,000\n",
       "Name: Volume, Length: 1258, dtype: object"
      ]
     },
     "execution_count": 59,
     "metadata": {},
     "output_type": "execute_result"
    }
   ],
   "source": [
    "train_dataset[\"Volume\"]"
   ]
  },
  {
   "cell_type": "code",
   "execution_count": 60,
   "id": "7664d072-84f1-49e7-aba5-caf86eb2c85b",
   "metadata": {
    "tags": []
   },
   "outputs": [],
   "source": [
    "newVolumes = []\n",
    "for i in train_dataset[\"Volume\"]:\n",
    "    i = i.replace(\",\",\"\")\n",
    "    newVolumes.append(float(i))"
   ]
  },
  {
   "cell_type": "code",
   "execution_count": 61,
   "id": "99a5704e-e1c2-4cd5-892f-2b0a9cc6542e",
   "metadata": {
    "tags": []
   },
   "outputs": [],
   "source": [
    "train_dataset.drop([\"Volume\"],inplace=True,axis = 1)"
   ]
  },
  {
   "cell_type": "code",
   "execution_count": 62,
   "id": "7bfb2276-3986-4065-9ca0-f5c9b1b42b6e",
   "metadata": {
    "tags": []
   },
   "outputs": [],
   "source": [
    "train_dataset[\"Volume\"] = newVolumes"
   ]
  },
  {
   "cell_type": "code",
   "execution_count": 63,
   "id": "49640c97-11a2-4f00-aeed-440c35bf5964",
   "metadata": {
    "tags": []
   },
   "outputs": [
    {
     "data": {
      "text/html": [
       "<div>\n",
       "<style scoped>\n",
       "    .dataframe tbody tr th:only-of-type {\n",
       "        vertical-align: middle;\n",
       "    }\n",
       "\n",
       "    .dataframe tbody tr th {\n",
       "        vertical-align: top;\n",
       "    }\n",
       "\n",
       "    .dataframe thead th {\n",
       "        text-align: right;\n",
       "    }\n",
       "</style>\n",
       "<table border=\"1\" class=\"dataframe\">\n",
       "  <thead>\n",
       "    <tr style=\"text-align: right;\">\n",
       "      <th></th>\n",
       "      <th>Date</th>\n",
       "      <th>Open</th>\n",
       "      <th>High</th>\n",
       "      <th>Low</th>\n",
       "      <th>Close</th>\n",
       "      <th>Volume</th>\n",
       "    </tr>\n",
       "  </thead>\n",
       "  <tbody>\n",
       "    <tr>\n",
       "      <th>0</th>\n",
       "      <td>1/3/2012</td>\n",
       "      <td>325.25</td>\n",
       "      <td>332.83</td>\n",
       "      <td>324.97</td>\n",
       "      <td>663.59</td>\n",
       "      <td>7380500.0</td>\n",
       "    </tr>\n",
       "    <tr>\n",
       "      <th>1</th>\n",
       "      <td>1/4/2012</td>\n",
       "      <td>331.27</td>\n",
       "      <td>333.87</td>\n",
       "      <td>329.08</td>\n",
       "      <td>666.45</td>\n",
       "      <td>5749400.0</td>\n",
       "    </tr>\n",
       "    <tr>\n",
       "      <th>2</th>\n",
       "      <td>1/5/2012</td>\n",
       "      <td>329.83</td>\n",
       "      <td>330.75</td>\n",
       "      <td>326.89</td>\n",
       "      <td>657.21</td>\n",
       "      <td>6590300.0</td>\n",
       "    </tr>\n",
       "    <tr>\n",
       "      <th>3</th>\n",
       "      <td>1/6/2012</td>\n",
       "      <td>328.34</td>\n",
       "      <td>328.77</td>\n",
       "      <td>323.68</td>\n",
       "      <td>648.24</td>\n",
       "      <td>5405900.0</td>\n",
       "    </tr>\n",
       "    <tr>\n",
       "      <th>4</th>\n",
       "      <td>1/9/2012</td>\n",
       "      <td>322.04</td>\n",
       "      <td>322.29</td>\n",
       "      <td>309.46</td>\n",
       "      <td>620.76</td>\n",
       "      <td>11688800.0</td>\n",
       "    </tr>\n",
       "  </tbody>\n",
       "</table>\n",
       "</div>"
      ],
      "text/plain": [
       "       Date    Open    High     Low   Close      Volume\n",
       "0  1/3/2012  325.25  332.83  324.97  663.59   7380500.0\n",
       "1  1/4/2012  331.27  333.87  329.08  666.45   5749400.0\n",
       "2  1/5/2012  329.83  330.75  326.89  657.21   6590300.0\n",
       "3  1/6/2012  328.34  328.77  323.68  648.24   5405900.0\n",
       "4  1/9/2012  322.04  322.29  309.46  620.76  11688800.0"
      ]
     },
     "execution_count": 63,
     "metadata": {},
     "output_type": "execute_result"
    }
   ],
   "source": [
    "train_dataset.head()"
   ]
  },
  {
   "cell_type": "code",
   "execution_count": 64,
   "id": "be0c9c37-beb9-4ba9-9f97-b6e5c78eb732",
   "metadata": {
    "tags": []
   },
   "outputs": [],
   "source": [
    "train_set = train_dataset.drop([\"Date\",\"High\",\"Low\",\"Close\"],axis = 1).values"
   ]
  },
  {
   "cell_type": "code",
   "execution_count": 65,
   "id": "0a491ad4-3bd0-4c99-b5e6-5d4a961412bf",
   "metadata": {
    "tags": []
   },
   "outputs": [],
   "source": [
    "from sklearn.preprocessing import MinMaxScaler\n",
    "mmsclar = MinMaxScaler()\n",
    "train_set_scaled = mmsclar.fit_transform(train_set)"
   ]
  },
  {
   "cell_type": "code",
   "execution_count": 66,
   "id": "2646fa0c-36d0-4330-9b9d-aa7a2b5758a3",
   "metadata": {
    "tags": []
   },
   "outputs": [
    {
     "data": {
      "text/plain": [
       "array([[0.08581368, 0.29525831],\n",
       "       [0.09701243, 0.22993592],\n",
       "       [0.09433366, 0.26361233],\n",
       "       ...,\n",
       "       [0.95725128, 0.04589107],\n",
       "       [0.93796041, 0.02949139],\n",
       "       [0.93688146, 0.07056868]])"
      ]
     },
     "execution_count": 66,
     "metadata": {},
     "output_type": "execute_result"
    }
   ],
   "source": [
    "train_set_scaled"
   ]
  },
  {
   "cell_type": "code",
   "execution_count": 67,
   "id": "04830c69-91cf-476e-a9af-d37e24f8988c",
   "metadata": {
    "tags": []
   },
   "outputs": [],
   "source": [
    "X_train = []\n",
    "y_train = []\n",
    "for i in range(120, 1258):\n",
    "    X_train.append(train_set_scaled[i-120:i, 0:2])\n",
    "    y_train.append(train_set_scaled[i, 0])\n",
    "X_train, y_train = np.array(X_train), np.array(y_train)"
   ]
  },
  {
   "cell_type": "code",
   "execution_count": 70,
   "id": "f251da4a-c6e0-41cc-b42e-c998206af3b7",
   "metadata": {
    "tags": []
   },
   "outputs": [
    {
     "data": {
      "text/plain": [
       "(1138, 120, 2)"
      ]
     },
     "execution_count": 70,
     "metadata": {},
     "output_type": "execute_result"
    }
   ],
   "source": [
    "X_train.shape"
   ]
  },
  {
   "cell_type": "code",
   "execution_count": 71,
   "id": "092e59b6-315a-49ca-a9ad-d68939b2c6ce",
   "metadata": {
    "tags": []
   },
   "outputs": [],
   "source": [
    "import tensorflow as tf"
   ]
  },
  {
   "cell_type": "code",
   "execution_count": 72,
   "id": "0555c465-ea16-4356-913a-104ef00bcaf4",
   "metadata": {
    "tags": []
   },
   "outputs": [],
   "source": [
    "rnn = tf.keras.models.Sequential()"
   ]
  },
  {
   "cell_type": "code",
   "execution_count": 73,
   "id": "d722967f-140f-463e-a1b3-8cac57f234ae",
   "metadata": {
    "tags": []
   },
   "outputs": [],
   "source": [
    "rnn.add(tf.keras.layers.LSTM(units=75,return_sequences=True,input_shape = [X_train.shape[1],2]))\n",
    "rnn.add(tf.keras.layers.Dropout(0.2))"
   ]
  },
  {
   "cell_type": "code",
   "execution_count": 74,
   "id": "37882b67-910d-4b8a-8bda-bda1a454920b",
   "metadata": {
    "tags": []
   },
   "outputs": [],
   "source": [
    "rnn.add(tf.keras.layers.LSTM(units=75,return_sequences=True))\n",
    "rnn.add(tf.keras.layers.Dropout(0.2))"
   ]
  },
  {
   "cell_type": "code",
   "execution_count": 75,
   "id": "a41d9467-9449-43d0-a84b-c438b25215c6",
   "metadata": {
    "tags": []
   },
   "outputs": [],
   "source": [
    "rnn.add(tf.keras.layers.LSTM(units=75,return_sequences=True))\n",
    "rnn.add(tf.keras.layers.Dropout(0.2))"
   ]
  },
  {
   "cell_type": "code",
   "execution_count": 76,
   "id": "6e3b2a04-6cd0-46c5-b1a3-3af873c0b9b0",
   "metadata": {
    "tags": []
   },
   "outputs": [],
   "source": [
    "rnn.add(tf.keras.layers.LSTM(units=75,return_sequences=True))\n",
    "rnn.add(tf.keras.layers.Dropout(0.2))"
   ]
  },
  {
   "cell_type": "code",
   "execution_count": 77,
   "id": "b9ed3dcd-1fa4-4277-9ff8-5f25cce40606",
   "metadata": {
    "tags": []
   },
   "outputs": [],
   "source": [
    "rnn.add(tf.keras.layers.LSTM(units=75))\n",
    "rnn.add(tf.keras.layers.Dropout(0.2))"
   ]
  },
  {
   "cell_type": "code",
   "execution_count": 78,
   "id": "1f3241e0-380f-4988-8eaa-d0a7857cb326",
   "metadata": {
    "tags": []
   },
   "outputs": [],
   "source": [
    "rnn.add(tf.keras.layers.Dense(units = 1))"
   ]
  },
  {
   "cell_type": "code",
   "execution_count": 79,
   "id": "3d19703d-e9c1-4f55-9175-a89a2746b235",
   "metadata": {
    "tags": []
   },
   "outputs": [],
   "source": [
    "rnn.compile(optimizer=\"adam\",loss = \"mean_squared_error\")"
   ]
  },
  {
   "cell_type": "code",
   "execution_count": 80,
   "id": "8406ef92-7add-4451-9a05-8597e317ff3b",
   "metadata": {
    "tags": []
   },
   "outputs": [
    {
     "name": "stdout",
     "output_type": "stream",
     "text": [
      "Epoch 1/125\n",
      "36/36 [==============================] - 15s 272ms/step - loss: 0.0429\n",
      "Epoch 2/125\n",
      "36/36 [==============================] - 10s 278ms/step - loss: 0.0068\n",
      "Epoch 3/125\n",
      "36/36 [==============================] - 10s 275ms/step - loss: 0.0072\n",
      "Epoch 4/125\n",
      "36/36 [==============================] - 10s 268ms/step - loss: 0.0055\n",
      "Epoch 5/125\n",
      "36/36 [==============================] - 10s 277ms/step - loss: 0.0055\n",
      "Epoch 6/125\n",
      "36/36 [==============================] - 10s 278ms/step - loss: 0.0044\n",
      "Epoch 7/125\n",
      "36/36 [==============================] - 10s 283ms/step - loss: 0.0042\n",
      "Epoch 8/125\n",
      "36/36 [==============================] - 10s 279ms/step - loss: 0.0049\n",
      "Epoch 9/125\n",
      "36/36 [==============================] - 10s 277ms/step - loss: 0.0043\n",
      "Epoch 10/125\n",
      "36/36 [==============================] - 10s 277ms/step - loss: 0.0041\n",
      "Epoch 11/125\n",
      "36/36 [==============================] - 10s 279ms/step - loss: 0.0048\n",
      "Epoch 12/125\n",
      "36/36 [==============================] - 10s 281ms/step - loss: 0.0047\n",
      "Epoch 13/125\n",
      "36/36 [==============================] - 10s 279ms/step - loss: 0.0042\n",
      "Epoch 14/125\n",
      "36/36 [==============================] - 10s 276ms/step - loss: 0.0039\n",
      "Epoch 15/125\n",
      "36/36 [==============================] - 10s 278ms/step - loss: 0.0045\n",
      "Epoch 16/125\n",
      "36/36 [==============================] - 10s 278ms/step - loss: 0.0038\n",
      "Epoch 17/125\n",
      "36/36 [==============================] - 10s 281ms/step - loss: 0.0037\n",
      "Epoch 18/125\n",
      "36/36 [==============================] - 10s 281ms/step - loss: 0.0034\n",
      "Epoch 19/125\n",
      "36/36 [==============================] - 10s 281ms/step - loss: 0.0040\n",
      "Epoch 20/125\n",
      "36/36 [==============================] - 10s 279ms/step - loss: 0.0035\n",
      "Epoch 21/125\n",
      "36/36 [==============================] - 10s 282ms/step - loss: 0.0033\n",
      "Epoch 22/125\n",
      "36/36 [==============================] - 10s 285ms/step - loss: 0.0032\n",
      "Epoch 23/125\n",
      "36/36 [==============================] - 10s 284ms/step - loss: 0.0035\n",
      "Epoch 24/125\n",
      "36/36 [==============================] - 10s 284ms/step - loss: 0.0035\n",
      "Epoch 25/125\n",
      "36/36 [==============================] - 10s 285ms/step - loss: 0.0031\n",
      "Epoch 26/125\n",
      "36/36 [==============================] - 10s 281ms/step - loss: 0.0029\n",
      "Epoch 27/125\n",
      "36/36 [==============================] - 10s 277ms/step - loss: 0.0029\n",
      "Epoch 28/125\n",
      "36/36 [==============================] - 10s 283ms/step - loss: 0.0035\n",
      "Epoch 29/125\n",
      "36/36 [==============================] - 10s 284ms/step - loss: 0.0032\n",
      "Epoch 30/125\n",
      "36/36 [==============================] - 10s 283ms/step - loss: 0.0026\n",
      "Epoch 31/125\n",
      "36/36 [==============================] - 10s 283ms/step - loss: 0.0030\n",
      "Epoch 32/125\n",
      "36/36 [==============================] - 10s 284ms/step - loss: 0.0029\n",
      "Epoch 33/125\n",
      "36/36 [==============================] - 10s 281ms/step - loss: 0.0029\n",
      "Epoch 34/125\n",
      "36/36 [==============================] - 10s 285ms/step - loss: 0.0027\n",
      "Epoch 35/125\n",
      "36/36 [==============================] - 10s 284ms/step - loss: 0.0029\n",
      "Epoch 36/125\n",
      "36/36 [==============================] - 10s 289ms/step - loss: 0.0027\n",
      "Epoch 37/125\n",
      "36/36 [==============================] - 10s 283ms/step - loss: 0.0034\n",
      "Epoch 38/125\n",
      "36/36 [==============================] - 10s 287ms/step - loss: 0.0029\n",
      "Epoch 39/125\n",
      "36/36 [==============================] - 10s 280ms/step - loss: 0.0029\n",
      "Epoch 40/125\n",
      "36/36 [==============================] - 10s 282ms/step - loss: 0.0026\n",
      "Epoch 41/125\n",
      "36/36 [==============================] - 10s 289ms/step - loss: 0.0026\n",
      "Epoch 42/125\n",
      "36/36 [==============================] - 10s 286ms/step - loss: 0.0025\n",
      "Epoch 43/125\n",
      "36/36 [==============================] - 10s 285ms/step - loss: 0.0027\n",
      "Epoch 44/125\n",
      "36/36 [==============================] - 10s 285ms/step - loss: 0.0024\n",
      "Epoch 45/125\n",
      "36/36 [==============================] - 10s 285ms/step - loss: 0.0025\n",
      "Epoch 46/125\n",
      "36/36 [==============================] - 10s 281ms/step - loss: 0.0024\n",
      "Epoch 47/125\n",
      "36/36 [==============================] - 10s 279ms/step - loss: 0.0024\n",
      "Epoch 48/125\n",
      "36/36 [==============================] - 10s 280ms/step - loss: 0.0022\n",
      "Epoch 49/125\n",
      "36/36 [==============================] - 10s 281ms/step - loss: 0.0022\n",
      "Epoch 50/125\n",
      "36/36 [==============================] - 10s 278ms/step - loss: 0.0022\n",
      "Epoch 51/125\n",
      "36/36 [==============================] - 10s 279ms/step - loss: 0.0024\n",
      "Epoch 52/125\n",
      "36/36 [==============================] - 10s 281ms/step - loss: 0.0023\n",
      "Epoch 53/125\n",
      "36/36 [==============================] - 10s 283ms/step - loss: 0.0027\n",
      "Epoch 54/125\n",
      "36/36 [==============================] - 10s 286ms/step - loss: 0.0022\n",
      "Epoch 55/125\n",
      "36/36 [==============================] - 10s 285ms/step - loss: 0.0021\n",
      "Epoch 56/125\n",
      "36/36 [==============================] - 10s 279ms/step - loss: 0.0023\n",
      "Epoch 57/125\n",
      "36/36 [==============================] - 10s 281ms/step - loss: 0.0022\n",
      "Epoch 58/125\n",
      "36/36 [==============================] - 10s 282ms/step - loss: 0.0020\n",
      "Epoch 59/125\n",
      "36/36 [==============================] - 10s 281ms/step - loss: 0.0021\n",
      "Epoch 60/125\n",
      "36/36 [==============================] - 10s 280ms/step - loss: 0.0019\n",
      "Epoch 61/125\n",
      "36/36 [==============================] - 10s 287ms/step - loss: 0.0020\n",
      "Epoch 62/125\n",
      "36/36 [==============================] - 10s 289ms/step - loss: 0.0021\n",
      "Epoch 63/125\n",
      "36/36 [==============================] - 10s 287ms/step - loss: 0.0022\n",
      "Epoch 64/125\n",
      "36/36 [==============================] - 10s 283ms/step - loss: 0.0017\n",
      "Epoch 65/125\n",
      "36/36 [==============================] - 10s 284ms/step - loss: 0.0020\n",
      "Epoch 66/125\n",
      "36/36 [==============================] - 10s 287ms/step - loss: 0.0019\n",
      "Epoch 67/125\n",
      "36/36 [==============================] - 10s 290ms/step - loss: 0.0020\n",
      "Epoch 68/125\n",
      "36/36 [==============================] - 10s 285ms/step - loss: 0.0018\n",
      "Epoch 69/125\n",
      "36/36 [==============================] - 10s 286ms/step - loss: 0.0019\n",
      "Epoch 70/125\n",
      "36/36 [==============================] - 10s 282ms/step - loss: 0.0019\n",
      "Epoch 71/125\n",
      "36/36 [==============================] - 10s 282ms/step - loss: 0.0017\n",
      "Epoch 72/125\n",
      "36/36 [==============================] - 10s 286ms/step - loss: 0.0017\n",
      "Epoch 73/125\n",
      "36/36 [==============================] - 10s 288ms/step - loss: 0.0017\n",
      "Epoch 74/125\n",
      "36/36 [==============================] - 10s 288ms/step - loss: 0.0017\n",
      "Epoch 75/125\n",
      "36/36 [==============================] - 10s 289ms/step - loss: 0.0018\n",
      "Epoch 76/125\n",
      "36/36 [==============================] - 10s 284ms/step - loss: 0.0016\n",
      "Epoch 77/125\n",
      "36/36 [==============================] - 10s 291ms/step - loss: 0.0017\n",
      "Epoch 78/125\n",
      "36/36 [==============================] - 10s 286ms/step - loss: 0.0017\n",
      "Epoch 79/125\n",
      "36/36 [==============================] - 10s 275ms/step - loss: 0.0017\n",
      "Epoch 80/125\n",
      "36/36 [==============================] - 10s 287ms/step - loss: 0.0018\n",
      "Epoch 81/125\n",
      "36/36 [==============================] - 10s 291ms/step - loss: 0.0018\n",
      "Epoch 82/125\n",
      "36/36 [==============================] - 10s 287ms/step - loss: 0.0015\n",
      "Epoch 83/125\n",
      "36/36 [==============================] - 10s 285ms/step - loss: 0.0015\n",
      "Epoch 84/125\n",
      "36/36 [==============================] - 11s 292ms/step - loss: 0.0017\n",
      "Epoch 85/125\n",
      "36/36 [==============================] - 10s 288ms/step - loss: 0.0017\n",
      "Epoch 86/125\n",
      "36/36 [==============================] - 10s 288ms/step - loss: 0.0019\n",
      "Epoch 87/125\n",
      "36/36 [==============================] - 10s 286ms/step - loss: 0.0016\n",
      "Epoch 88/125\n",
      "36/36 [==============================] - 10s 288ms/step - loss: 0.0016\n",
      "Epoch 89/125\n",
      "36/36 [==============================] - 10s 286ms/step - loss: 0.0017\n",
      "Epoch 90/125\n",
      "36/36 [==============================] - 10s 282ms/step - loss: 0.0015\n",
      "Epoch 91/125\n",
      "36/36 [==============================] - 10s 281ms/step - loss: 0.0017\n",
      "Epoch 92/125\n",
      "36/36 [==============================] - 10s 286ms/step - loss: 0.0016\n",
      "Epoch 93/125\n",
      "36/36 [==============================] - 10s 284ms/step - loss: 0.0014\n",
      "Epoch 94/125\n",
      "36/36 [==============================] - 10s 285ms/step - loss: 0.0014\n",
      "Epoch 95/125\n",
      "36/36 [==============================] - 10s 280ms/step - loss: 0.0015\n",
      "Epoch 96/125\n",
      "36/36 [==============================] - 10s 286ms/step - loss: 0.0014\n",
      "Epoch 97/125\n",
      "36/36 [==============================] - 10s 282ms/step - loss: 0.0015\n",
      "Epoch 98/125\n",
      "36/36 [==============================] - 10s 288ms/step - loss: 0.0017\n",
      "Epoch 99/125\n",
      "36/36 [==============================] - 10s 284ms/step - loss: 0.0015\n",
      "Epoch 100/125\n",
      "36/36 [==============================] - 10s 285ms/step - loss: 0.0013\n",
      "Epoch 101/125\n",
      "36/36 [==============================] - 10s 284ms/step - loss: 0.0013\n",
      "Epoch 102/125\n",
      "36/36 [==============================] - 10s 285ms/step - loss: 0.0014\n",
      "Epoch 103/125\n",
      "36/36 [==============================] - 10s 286ms/step - loss: 0.0014\n",
      "Epoch 104/125\n",
      "36/36 [==============================] - 10s 291ms/step - loss: 0.0013\n",
      "Epoch 105/125\n",
      "36/36 [==============================] - 10s 284ms/step - loss: 0.0014\n",
      "Epoch 106/125\n",
      "36/36 [==============================] - 10s 282ms/step - loss: 0.0013\n",
      "Epoch 107/125\n",
      "36/36 [==============================] - 10s 286ms/step - loss: 0.0013\n",
      "Epoch 108/125\n",
      "36/36 [==============================] - 10s 284ms/step - loss: 0.0014\n",
      "Epoch 109/125\n",
      "36/36 [==============================] - 10s 289ms/step - loss: 0.0012\n",
      "Epoch 110/125\n",
      "36/36 [==============================] - 10s 289ms/step - loss: 0.0014\n",
      "Epoch 111/125\n",
      "36/36 [==============================] - 10s 290ms/step - loss: 0.0012\n",
      "Epoch 112/125\n",
      "36/36 [==============================] - 11s 292ms/step - loss: 0.0012\n",
      "Epoch 113/125\n",
      "36/36 [==============================] - 10s 284ms/step - loss: 0.0013\n",
      "Epoch 114/125\n",
      "36/36 [==============================] - 10s 283ms/step - loss: 0.0012\n",
      "Epoch 115/125\n",
      "36/36 [==============================] - 10s 282ms/step - loss: 0.0012\n",
      "Epoch 116/125\n",
      "36/36 [==============================] - 10s 283ms/step - loss: 0.0013\n",
      "Epoch 117/125\n",
      "36/36 [==============================] - 10s 283ms/step - loss: 0.0012\n",
      "Epoch 118/125\n",
      "36/36 [==============================] - 10s 280ms/step - loss: 0.0012\n",
      "Epoch 119/125\n",
      "36/36 [==============================] - 10s 281ms/step - loss: 0.0013\n",
      "Epoch 120/125\n",
      "36/36 [==============================] - 10s 289ms/step - loss: 0.0012\n",
      "Epoch 121/125\n",
      "36/36 [==============================] - 10s 283ms/step - loss: 0.0014\n",
      "Epoch 122/125\n",
      "36/36 [==============================] - 10s 279ms/step - loss: 0.0012\n",
      "Epoch 123/125\n",
      "36/36 [==============================] - 10s 280ms/step - loss: 0.0011\n",
      "Epoch 124/125\n",
      "36/36 [==============================] - 10s 284ms/step - loss: 0.0012\n",
      "Epoch 125/125\n",
      "36/36 [==============================] - 10s 286ms/step - loss: 0.0012\n"
     ]
    },
    {
     "data": {
      "text/plain": [
       "<keras.callbacks.History at 0x22a419162c0>"
      ]
     },
     "execution_count": 80,
     "metadata": {},
     "output_type": "execute_result"
    }
   ],
   "source": [
    "rnn.fit(X_train,y_train,epochs=125,batch_size = 32)"
   ]
  },
  {
   "cell_type": "code",
   "execution_count": 83,
   "id": "51b7ab60-829c-4a7c-8ada-d4333b8d09fd",
   "metadata": {
    "tags": []
   },
   "outputs": [
    {
     "data": {
      "text/plain": [
       "(140, 2)"
      ]
     },
     "execution_count": 83,
     "metadata": {},
     "output_type": "execute_result"
    }
   ],
   "source": [
    "test_dataset = pd.read_csv(\"Google_Stock_Price_Test.csv\")\n",
    "real_price = test_dataset.iloc[:, 1:2].values\n",
    "\n",
    "newVolumes = []\n",
    "for i in test_dataset[\"Volume\"]:\n",
    "    i = i.replace(\",\",\"\")\n",
    "    newVolumes.append(float(i))\n",
    "test_dataset.drop([\"Volume\"],inplace=True,axis = 1)\n",
    "test_dataset[\"Volume\"] = newVolumes\n",
    "\n",
    "dataset = pd.concat((train_dataset[[\"Open\",\"Volume\"]],test_dataset[[\"Open\",\"Volume\"]]),axis = 0)\n",
    "inputs = dataset[len(dataset) - len(test_dataset) - 120:].values"
   ]
  },
  {
   "cell_type": "code",
   "execution_count": 84,
   "id": "4a4a091f-0caf-4526-9054-48d40381dbe4",
   "metadata": {
    "tags": []
   },
   "outputs": [],
   "source": [
    "inputs = mmsclar.transform(inputs)"
   ]
  },
  {
   "cell_type": "code",
   "execution_count": 175,
   "id": "26c6f871-3d93-46af-814e-9114d93e0983",
   "metadata": {
    "tags": []
   },
   "outputs": [
    {
     "name": "stdout",
     "output_type": "stream",
     "text": [
      "1/1 [==============================] - 0s 67ms/step\n"
     ]
    }
   ],
   "source": [
    "X_test = []\n",
    "for i in range(120, 140):\n",
    "    X_test.append(inputs[i-120:i, 0:2])\n",
    "X_test = np.array(X_test)\n",
    "predicted_price = rnn.predict(X_test)"
   ]
  },
  {
   "cell_type": "code",
   "execution_count": null,
   "id": "531e0ae9-cabc-4c46-a142-35f2681d1401",
   "metadata": {
    "collapsed": true,
    "jupyter": {
     "outputs_hidden": true
    },
    "tags": []
   },
   "outputs": [
    {
     "ename": "NameError",
     "evalue": "name 'predicted_price' is not defined",
     "output_type": "error",
     "traceback": [
      "\u001b[1;31m---------------------------------------------------------------------------\u001b[0m",
      "\u001b[1;31mNameError\u001b[0m                                 Traceback (most recent call last)",
      "Input \u001b[1;32mIn [3]\u001b[0m, in \u001b[0;36m<cell line: 3>\u001b[1;34m()\u001b[0m\n\u001b[0;32m      1\u001b[0m list1 \u001b[38;5;241m=\u001b[39m []\n\u001b[0;32m      2\u001b[0m a \u001b[38;5;241m=\u001b[39m \u001b[38;5;241m0\u001b[39m\n\u001b[1;32m----> 3\u001b[0m \u001b[38;5;28;01mfor\u001b[39;00m i \u001b[38;5;129;01min\u001b[39;00m \u001b[43mpredicted_price\u001b[49m:\n\u001b[0;32m      4\u001b[0m     list1\u001b[38;5;241m.\u001b[39mappend([i[\u001b[38;5;241m0\u001b[39m]])\n\u001b[0;32m      5\u001b[0m     list1[a]\u001b[38;5;241m.\u001b[39mappend(\u001b[38;5;241m1\u001b[39m)\n",
      "\u001b[1;31mNameError\u001b[0m: name 'predicted_price' is not defined"
     ]
    }
   ],
   "source": [
    "list1 = []\n",
    "a = 0\n",
    "for i in predicted_price:\n",
    "    list1.append([i[0]])\n",
    "    list1[a].append(1)\n",
    "    a+=1\n",
    "    \n",
    "predicted_price = np.array(list1)"
   ]
  },
  {
   "cell_type": "code",
   "execution_count": 177,
   "id": "682e9200-3fba-447b-970d-bee1a7b978c9",
   "metadata": {
    "tags": []
   },
   "outputs": [],
   "source": [
    "predicted_price = mmsclar.inverse_transform(predicted_price)"
   ]
  },
  {
   "cell_type": "code",
   "execution_count": 180,
   "id": "cf0efbd4-8195-4e1f-9f00-c93b31fadc9e",
   "metadata": {
    "tags": []
   },
   "outputs": [
    {
     "data": {
      "image/png": "[encoded data removed]",
      "text/plain": [
       "<Figure size 720x576 with 1 Axes>"
      ]
     },
     "metadata": {
      "needs_background": "light"
     },
     "output_type": "display_data"
    }
   ],
   "source": [
    "import matplotlib.pyplot as plt\n",
    "plt.figure(figsize = (10,8))\n",
    "plt.plot(real_price, color = 'green', label = 'Real Google Stock Price')\n",
    "plt.plot(predicted_price[:,0], color = 'red', label = 'Predicted Google Stock Price')\n",
    "plt.title('Google Stock Price Prediction')\n",
    "plt.xlabel('Time')\n",
    "plt.ylabel('Google Stock Price')\n",
    "\n",
    "plt.legend()\n",
    "plt.show()"
   ]
  },
  {
   "cell_type": "code",
   "execution_count": null,
   "id": "c5028338-3958-43c9-a681-bee458765b07",
   "metadata": {},
   "outputs": [],
   "source": []
  }
 ],
 "metadata": {
  "kernelspec": {
   "display_name": "Python 3 (ipykernel)",
   "language": "python",
   "name": "python3"
  },
  "language_info": {
   "codemirror_mode": {
    "name": "ipython",
    "version": 3
   },
   "file_extension": ".py",
   "mimetype": "text/x-python",
   "name": "python",
   "nbconvert_exporter": "python",
   "pygments_lexer": "ipython3",
   "version": "3.10.5"
  }
 },
 "nbformat": 4,
 "nbformat_minor": 5
}
