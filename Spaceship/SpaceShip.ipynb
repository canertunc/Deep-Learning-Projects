{
 "cells": [
  {
   "cell_type": "markdown",
   "id": "b2340452-92c5-405b-8829-5d001cd40697",
   "metadata": {},
   "source": [
    "Data set from\n",
    "https://www.kaggle.com/competitions/spaceship-titanic/overview"
   ]
  },
  {
   "cell_type": "code",
   "execution_count": 37,
   "id": "c53b97d1-4faf-40bc-8b87-64a7645454a3",
   "metadata": {
    "tags": []
   },
   "outputs": [],
   "source": [
    "import pandas as pd\n",
    "import numpy as np\n",
    "import matplotlib.pyplot as plt\n",
    "import seaborn as sns"
   ]
  },
  {
   "cell_type": "code",
   "execution_count": 38,
   "id": "cc51527e-b979-46d9-b797-5d8ddc07926e",
   "metadata": {
    "tags": []
   },
   "outputs": [],
   "source": [
    "train_data = pd.read_csv(\"train.csv\")"
   ]
  },
  {
   "cell_type": "code",
   "execution_count": 39,
   "id": "2c7b1af4-eaeb-41f4-9c58-dd05d48a4ca5",
   "metadata": {
    "tags": []
   },
   "outputs": [],
   "source": [
    "test_data = pd.read_csv(\"test.csv\")"
   ]
  },
  {
   "cell_type": "code",
   "execution_count": 40,
   "id": "34f9080a-eaed-4c5d-b91e-8f934b29153a",
   "metadata": {
    "tags": []
   },
   "outputs": [
    {
     "name": "stdout",
     "output_type": "stream",
     "text": [
      "<class 'pandas.core.frame.DataFrame'>\n",
      "RangeIndex: 8693 entries, 0 to 8692\n",
      "Data columns (total 14 columns):\n",
      " #   Column        Non-Null Count  Dtype  \n",
      "---  ------        --------------  -----  \n",
      " 0   PassengerId   8693 non-null   object \n",
      " 1   HomePlanet    8492 non-null   object \n",
      " 2   CryoSleep     8476 non-null   object \n",
      " 3   Cabin         8494 non-null   object \n",
      " 4   Destination   8511 non-null   object \n",
      " 5   Age           8514 non-null   float64\n",
      " 6   VIP           8490 non-null   object \n",
      " 7   RoomService   8512 non-null   float64\n",
      " 8   FoodCourt     8510 non-null   float64\n",
      " 9   ShoppingMall  8485 non-null   float64\n",
      " 10  Spa           8510 non-null   float64\n",
      " 11  VRDeck        8505 non-null   float64\n",
      " 12  Name          8493 non-null   object \n",
      " 13  Transported   8693 non-null   bool   \n",
      "dtypes: bool(1), float64(6), object(7)\n",
      "memory usage: 891.5+ KB\n"
     ]
    }
   ],
   "source": [
    "train_data.info()"
   ]
  },
  {
   "cell_type": "code",
   "execution_count": 41,
   "id": "62e950c2-5908-49e8-bf6e-2038ec085dde",
   "metadata": {
    "tags": []
   },
   "outputs": [],
   "source": [
    "X = train_data.drop([\"PassengerId\",\"Transported\",\"Name\"],axis = 1)\n",
    "y = train_data[\"Transported\"]"
   ]
  },
  {
   "cell_type": "code",
   "execution_count": 42,
   "id": "46353521-a031-428c-91a8-a6e5e6632357",
   "metadata": {
    "tags": []
   },
   "outputs": [],
   "source": [
    "X_test2 = test_data.drop([\"PassengerId\",\"Name\"],axis = 1)"
   ]
  },
  {
   "cell_type": "code",
   "execution_count": 43,
   "id": "f64e6923-9c2e-4b0c-bc99-ebd9ab50d84a",
   "metadata": {
    "tags": []
   },
   "outputs": [],
   "source": [
    "from sklearn.preprocessing import LabelEncoder\n",
    "le = LabelEncoder()\n",
    "y = le.fit_transform(y)"
   ]
  },
  {
   "cell_type": "code",
   "execution_count": 44,
   "id": "6c20face-8ce1-4b03-acce-8000fb4b9a0d",
   "metadata": {
    "tags": []
   },
   "outputs": [
    {
     "name": "stdout",
     "output_type": "stream",
     "text": [
      "<class 'pandas.core.frame.DataFrame'>\n",
      "RangeIndex: 8693 entries, 0 to 8692\n",
      "Data columns (total 11 columns):\n",
      " #   Column        Non-Null Count  Dtype  \n",
      "---  ------        --------------  -----  \n",
      " 0   HomePlanet    8492 non-null   object \n",
      " 1   CryoSleep     8476 non-null   object \n",
      " 2   Cabin         8494 non-null   object \n",
      " 3   Destination   8511 non-null   object \n",
      " 4   Age           8514 non-null   float64\n",
      " 5   VIP           8490 non-null   object \n",
      " 6   RoomService   8512 non-null   float64\n",
      " 7   FoodCourt     8510 non-null   float64\n",
      " 8   ShoppingMall  8485 non-null   float64\n",
      " 9   Spa           8510 non-null   float64\n",
      " 10  VRDeck        8505 non-null   float64\n",
      "dtypes: float64(6), object(5)\n",
      "memory usage: 747.2+ KB\n"
     ]
    }
   ],
   "source": [
    "X.info()"
   ]
  },
  {
   "cell_type": "code",
   "execution_count": 45,
   "id": "7e367e0f-e119-4ae3-b0d3-d779285a17b0",
   "metadata": {
    "tags": []
   },
   "outputs": [
    {
     "data": {
      "text/plain": [
       "8693"
      ]
     },
     "execution_count": 45,
     "metadata": {},
     "output_type": "execute_result"
    }
   ],
   "source": [
    "len(y)"
   ]
  },
  {
   "cell_type": "code",
   "execution_count": 46,
   "id": "fb1a6896-6d60-486c-8c2f-da99df420a56",
   "metadata": {
    "tags": []
   },
   "outputs": [
    {
     "data": {
      "text/plain": [
       "Earth     4602\n",
       "Europa    2131\n",
       "Mars      1759\n",
       "Name: HomePlanet, dtype: int64"
      ]
     },
     "execution_count": 46,
     "metadata": {},
     "output_type": "execute_result"
    }
   ],
   "source": [
    "X[\"HomePlanet\"].value_counts()"
   ]
  },
  {
   "cell_type": "code",
   "execution_count": 47,
   "id": "17bf62e6-663f-4450-b913-614ec4ad609a",
   "metadata": {
    "tags": []
   },
   "outputs": [],
   "source": [
    "X[\"HomePlanet\"] = X[\"HomePlanet\"].fillna(\"Earth\")"
   ]
  },
  {
   "cell_type": "code",
   "execution_count": 48,
   "id": "37a26d1f-ff85-4f2e-ac8b-ee01f2367005",
   "metadata": {
    "tags": []
   },
   "outputs": [],
   "source": [
    "X_test2[\"HomePlanet\"] = X_test2[\"HomePlanet\"].fillna(\"Earth\")"
   ]
  },
  {
   "cell_type": "code",
   "execution_count": 49,
   "id": "5f1541f0-8860-4759-ad10-0d0cadc64c53",
   "metadata": {},
   "outputs": [
    {
     "data": {
      "text/plain": [
       "False    5439\n",
       "True     3037\n",
       "Name: CryoSleep, dtype: int64"
      ]
     },
     "execution_count": 49,
     "metadata": {},
     "output_type": "execute_result"
    }
   ],
   "source": [
    "X[\"CryoSleep\"].value_counts()"
   ]
  },
  {
   "cell_type": "code",
   "execution_count": 50,
   "id": "4f4fd417-26f3-4998-8c7a-68270ea718ca",
   "metadata": {
    "tags": []
   },
   "outputs": [],
   "source": [
    "X[\"CryoSleep\"] = X[\"CryoSleep\"].fillna(False)"
   ]
  },
  {
   "cell_type": "code",
   "execution_count": 51,
   "id": "6aa56ae0-1db5-46df-92bc-e01036d1fa52",
   "metadata": {
    "tags": []
   },
   "outputs": [],
   "source": [
    "X_test2[\"CryoSleep\"] = X_test2[\"CryoSleep\"].fillna(False)"
   ]
  },
  {
   "cell_type": "code",
   "execution_count": 52,
   "id": "6ad6576a-e278-4a5b-8631-904b10759fca",
   "metadata": {
    "tags": []
   },
   "outputs": [],
   "source": [
    "X[\"Cabin\"] = X[\"Cabin\"].fillna(\"F/0\")"
   ]
  },
  {
   "cell_type": "code",
   "execution_count": 53,
   "id": "84371720-91cb-44d8-b181-47edb85120c3",
   "metadata": {
    "tags": []
   },
   "outputs": [],
   "source": [
    "X_test2[\"Cabin\"] = X_test2[\"Cabin\"].fillna(\"F/0\")"
   ]
  },
  {
   "cell_type": "code",
   "execution_count": 54,
   "id": "5b69931e-2acd-4d27-bc5f-5543b7c2fdc9",
   "metadata": {
    "tags": []
   },
   "outputs": [],
   "source": [
    "new_cabin = []\n",
    "cabins = X[\"Cabin\"].values\n",
    "for i in cabins:\n",
    "    list_i = str(i).split(\"/\")\n",
    "    new_cabin.append(list_i[0])\n"
   ]
  },
  {
   "cell_type": "code",
   "execution_count": 55,
   "id": "ad04fe41-2bf4-40e3-bc5b-5605b8e204d6",
   "metadata": {
    "tags": []
   },
   "outputs": [],
   "source": [
    "new_cabin2 = []\n",
    "cabins2 = X_test2[\"Cabin\"].values\n",
    "for i in cabins2:\n",
    "    list_i = str(i).split(\"/\")\n",
    "    new_cabin2.append(list_i[0])\n",
    "X_test2.drop([\"Cabin\"],axis = 1,inplace = True )\n",
    "X_test2[\"Cabin\"] = new_cabin2"
   ]
  },
  {
   "cell_type": "code",
   "execution_count": 56,
   "id": "cd2947c9-f530-4626-89a9-9bc98674a8ee",
   "metadata": {
    "tags": []
   },
   "outputs": [],
   "source": [
    "X.drop([\"Cabin\"],axis = 1,inplace = True )"
   ]
  },
  {
   "cell_type": "code",
   "execution_count": 57,
   "id": "eb1c9b6a-e513-4979-a7d1-eab3a8c23cf5",
   "metadata": {
    "tags": []
   },
   "outputs": [],
   "source": [
    "X[\"Cabin\"] = new_cabin"
   ]
  },
  {
   "cell_type": "code",
   "execution_count": 58,
   "id": "104d1eb7-66b4-4d53-87a8-e2e394b6dfb0",
   "metadata": {
    "tags": []
   },
   "outputs": [
    {
     "data": {
      "text/plain": [
       "TRAPPIST-1e      5915\n",
       "55 Cancri e      1800\n",
       "PSO J318.5-22     796\n",
       "Name: Destination, dtype: int64"
      ]
     },
     "execution_count": 58,
     "metadata": {},
     "output_type": "execute_result"
    }
   ],
   "source": [
    "X[\"Destination\"].value_counts()"
   ]
  },
  {
   "cell_type": "code",
   "execution_count": 59,
   "id": "73dcf1a0-9223-49c1-904b-20c16be0d7c2",
   "metadata": {
    "tags": []
   },
   "outputs": [],
   "source": [
    "X[\"Destination\"] = X[\"Destination\"].fillna(\"TRAPPIST-1e\")"
   ]
  },
  {
   "cell_type": "code",
   "execution_count": 60,
   "id": "4d1d240e-7b13-42f1-b0be-b1a3e429d9f9",
   "metadata": {
    "tags": []
   },
   "outputs": [],
   "source": [
    "X_test2[\"Destination\"] = X_test2[\"Destination\"].fillna(\"TRAPPIST-1e\")"
   ]
  },
  {
   "cell_type": "code",
   "execution_count": 61,
   "id": "fb31545d-9fbf-44d1-8a71-b42b13262162",
   "metadata": {
    "tags": []
   },
   "outputs": [],
   "source": [
    "X[\"Age\"] = X[\"Age\"].fillna(X[\"Age\"].mean(skipna = True))"
   ]
  },
  {
   "cell_type": "code",
   "execution_count": 62,
   "id": "4cfc5374-ab26-457a-8eb9-85418cf47a63",
   "metadata": {
    "tags": []
   },
   "outputs": [],
   "source": [
    "X_test2[\"Age\"] = X_test2[\"Age\"].fillna(X_test2[\"Age\"].mean(skipna = True))"
   ]
  },
  {
   "cell_type": "code",
   "execution_count": 63,
   "id": "2cf2ae8f-ba97-4ec4-a344-bb4db5acf10f",
   "metadata": {
    "tags": []
   },
   "outputs": [
    {
     "data": {
      "text/plain": [
       "False    8291\n",
       "True      199\n",
       "Name: VIP, dtype: int64"
      ]
     },
     "execution_count": 63,
     "metadata": {},
     "output_type": "execute_result"
    }
   ],
   "source": [
    "X[\"VIP\"].value_counts()"
   ]
  },
  {
   "cell_type": "code",
   "execution_count": 64,
   "id": "9b0e09f4-e170-42c7-951a-b67f45451e8f",
   "metadata": {
    "tags": []
   },
   "outputs": [],
   "source": [
    "X[\"VIP\"] = X[\"VIP\"].fillna(False)"
   ]
  },
  {
   "cell_type": "code",
   "execution_count": 65,
   "id": "ce3e6e25-9a32-4af5-b317-eb1042e69bcc",
   "metadata": {
    "tags": []
   },
   "outputs": [],
   "source": [
    "X_test2[\"VIP\"] = X_test2[\"VIP\"].fillna(False)"
   ]
  },
  {
   "cell_type": "code",
   "execution_count": 66,
   "id": "0da9feeb-8d42-4647-afb0-9f05e7d33f13",
   "metadata": {
    "tags": []
   },
   "outputs": [
    {
     "data": {
      "text/plain": [
       "224.687617481203"
      ]
     },
     "execution_count": 66,
     "metadata": {},
     "output_type": "execute_result"
    }
   ],
   "source": [
    "X[\"RoomService\"].mean(skipna=True)"
   ]
  },
  {
   "cell_type": "code",
   "execution_count": 67,
   "id": "e10bb53a-c523-4dba-b8ac-aa7bab28f113",
   "metadata": {
    "tags": []
   },
   "outputs": [
    {
     "data": {
      "text/plain": [
       "array([['Europa', False, 'TRAPPIST-1e', ..., 0.0, 0.0, 'B'],\n",
       "       ['Earth', False, 'TRAPPIST-1e', ..., 549.0, 44.0, 'F'],\n",
       "       ['Europa', False, 'TRAPPIST-1e', ..., 6715.0, 49.0, 'A'],\n",
       "       ...,\n",
       "       ['Earth', False, 'TRAPPIST-1e', ..., 1.0, 0.0, 'G'],\n",
       "       ['Europa', False, '55 Cancri e', ..., 353.0, 3235.0, 'E'],\n",
       "       ['Europa', False, 'TRAPPIST-1e', ..., 0.0, 12.0, 'E']],\n",
       "      dtype=object)"
      ]
     },
     "execution_count": 67,
     "metadata": {},
     "output_type": "execute_result"
    }
   ],
   "source": [
    "X.values"
   ]
  },
  {
   "cell_type": "code",
   "execution_count": 68,
   "id": "a7f66b3d-3653-4a99-8443-332bada6b365",
   "metadata": {
    "tags": []
   },
   "outputs": [
    {
     "data": {
      "text/plain": [
       "array([['Europa', False, 'TRAPPIST-1e', ..., 0.0, 0.0, 'B'],\n",
       "       ['Earth', False, 'TRAPPIST-1e', ..., 549.0, 44.0, 'F'],\n",
       "       ['Europa', False, 'TRAPPIST-1e', ..., 6715.0, 49.0, 'A'],\n",
       "       ...,\n",
       "       ['Earth', False, 'TRAPPIST-1e', ..., 1.0, 0.0, 'G'],\n",
       "       ['Europa', False, '55 Cancri e', ..., 353.0, 3235.0, 'E'],\n",
       "       ['Europa', False, 'TRAPPIST-1e', ..., 0.0, 12.0, 'E']],\n",
       "      dtype=object)"
      ]
     },
     "execution_count": 68,
     "metadata": {},
     "output_type": "execute_result"
    }
   ],
   "source": [
    "X.values"
   ]
  },
  {
   "cell_type": "code",
   "execution_count": 33,
   "id": "f7205c08-818a-481a-88cd-c4b693a838d1",
   "metadata": {
    "tags": []
   },
   "outputs": [],
   "source": [
    "# yeni\n",
    "lux_list = []\n",
    "\n",
    "for i in X.values:\n",
    "    average = 0\n",
    "    for x in i[5:10]:\n",
    "        average += x\n",
    "    if average <= 3500:\n",
    "        lux_list.append(1)\n",
    "    else:\n",
    "        lux_list.append(0)\n",
    "\n",
    "X.drop([\"RoomService\",\"FoodCourt\",\"ShoppingMall\",\"Spa\",\"VRDeck\"],axis = 1,inplace = True)\n",
    "    \n",
    "X[\"Lux\"] = lux_list"
   ]
  },
  {
   "cell_type": "code",
   "execution_count": 69,
   "id": "ea363c1a-848c-42eb-880d-f9e93db3a65f",
   "metadata": {
    "tags": []
   },
   "outputs": [
    {
     "data": {
      "text/html": [
       "<div>\n",
       "<style scoped>\n",
       "    .dataframe tbody tr th:only-of-type {\n",
       "        vertical-align: middle;\n",
       "    }\n",
       "\n",
       "    .dataframe tbody tr th {\n",
       "        vertical-align: top;\n",
       "    }\n",
       "\n",
       "    .dataframe thead th {\n",
       "        text-align: right;\n",
       "    }\n",
       "</style>\n",
       "<table border=\"1\" class=\"dataframe\">\n",
       "  <thead>\n",
       "    <tr style=\"text-align: right;\">\n",
       "      <th></th>\n",
       "      <th>HomePlanet</th>\n",
       "      <th>CryoSleep</th>\n",
       "      <th>Destination</th>\n",
       "      <th>Age</th>\n",
       "      <th>VIP</th>\n",
       "      <th>RoomService</th>\n",
       "      <th>FoodCourt</th>\n",
       "      <th>ShoppingMall</th>\n",
       "      <th>Spa</th>\n",
       "      <th>VRDeck</th>\n",
       "      <th>Cabin</th>\n",
       "    </tr>\n",
       "  </thead>\n",
       "  <tbody>\n",
       "    <tr>\n",
       "      <th>0</th>\n",
       "      <td>Earth</td>\n",
       "      <td>True</td>\n",
       "      <td>TRAPPIST-1e</td>\n",
       "      <td>27.0</td>\n",
       "      <td>False</td>\n",
       "      <td>0.0</td>\n",
       "      <td>0.0</td>\n",
       "      <td>0.0</td>\n",
       "      <td>0.0</td>\n",
       "      <td>0.0</td>\n",
       "      <td>G</td>\n",
       "    </tr>\n",
       "    <tr>\n",
       "      <th>1</th>\n",
       "      <td>Earth</td>\n",
       "      <td>False</td>\n",
       "      <td>TRAPPIST-1e</td>\n",
       "      <td>19.0</td>\n",
       "      <td>False</td>\n",
       "      <td>0.0</td>\n",
       "      <td>9.0</td>\n",
       "      <td>0.0</td>\n",
       "      <td>2823.0</td>\n",
       "      <td>0.0</td>\n",
       "      <td>F</td>\n",
       "    </tr>\n",
       "    <tr>\n",
       "      <th>2</th>\n",
       "      <td>Europa</td>\n",
       "      <td>True</td>\n",
       "      <td>55 Cancri e</td>\n",
       "      <td>31.0</td>\n",
       "      <td>False</td>\n",
       "      <td>0.0</td>\n",
       "      <td>0.0</td>\n",
       "      <td>0.0</td>\n",
       "      <td>0.0</td>\n",
       "      <td>0.0</td>\n",
       "      <td>C</td>\n",
       "    </tr>\n",
       "    <tr>\n",
       "      <th>3</th>\n",
       "      <td>Europa</td>\n",
       "      <td>False</td>\n",
       "      <td>TRAPPIST-1e</td>\n",
       "      <td>38.0</td>\n",
       "      <td>False</td>\n",
       "      <td>0.0</td>\n",
       "      <td>6652.0</td>\n",
       "      <td>0.0</td>\n",
       "      <td>181.0</td>\n",
       "      <td>585.0</td>\n",
       "      <td>C</td>\n",
       "    </tr>\n",
       "    <tr>\n",
       "      <th>4</th>\n",
       "      <td>Earth</td>\n",
       "      <td>False</td>\n",
       "      <td>TRAPPIST-1e</td>\n",
       "      <td>20.0</td>\n",
       "      <td>False</td>\n",
       "      <td>10.0</td>\n",
       "      <td>0.0</td>\n",
       "      <td>635.0</td>\n",
       "      <td>0.0</td>\n",
       "      <td>0.0</td>\n",
       "      <td>F</td>\n",
       "    </tr>\n",
       "  </tbody>\n",
       "</table>\n",
       "</div>"
      ],
      "text/plain": [
       "  HomePlanet  CryoSleep  Destination   Age    VIP  RoomService  FoodCourt  \\\n",
       "0      Earth       True  TRAPPIST-1e  27.0  False          0.0        0.0   \n",
       "1      Earth      False  TRAPPIST-1e  19.0  False          0.0        9.0   \n",
       "2     Europa       True  55 Cancri e  31.0  False          0.0        0.0   \n",
       "3     Europa      False  TRAPPIST-1e  38.0  False          0.0     6652.0   \n",
       "4      Earth      False  TRAPPIST-1e  20.0  False         10.0        0.0   \n",
       "\n",
       "   ShoppingMall     Spa  VRDeck Cabin  \n",
       "0           0.0     0.0     0.0     G  \n",
       "1           0.0  2823.0     0.0     F  \n",
       "2           0.0     0.0     0.0     C  \n",
       "3           0.0   181.0   585.0     C  \n",
       "4         635.0     0.0     0.0     F  "
      ]
     },
     "execution_count": 69,
     "metadata": {},
     "output_type": "execute_result"
    }
   ],
   "source": [
    "X_test2.head()"
   ]
  },
  {
   "cell_type": "code",
   "execution_count": 35,
   "id": "331027d2-608b-4a03-8796-7ce5aa067582",
   "metadata": {
    "tags": []
   },
   "outputs": [],
   "source": [
    "# yeni\n",
    "lux_list2 = []\n",
    "for i in X_test2.values:\n",
    "    average = 0\n",
    "    for x in i[5:10]:\n",
    "        average += x\n",
    "    if average <= 3500:\n",
    "        lux_list2.append(1)\n",
    "    else:\n",
    "        lux_list2.append(0)\n",
    "X_test2.drop([\"RoomService\",\"FoodCourt\",\"ShoppingMall\",\"Spa\",\"VRDeck\"],axis = 1,inplace = True)\n",
    "X_test2[\"Lux\"] = lux_list2\n",
    "\n",
    "    "
   ]
  },
  {
   "cell_type": "code",
   "execution_count": 70,
   "id": "b589cc5d-ed9f-4537-85ce-a4af4d103d56",
   "metadata": {
    "tags": []
   },
   "outputs": [],
   "source": [
    "X[\"RoomService\"] = X[\"RoomService\"].fillna(X[\"RoomService\"].mean(skipna=True))"
   ]
  },
  {
   "cell_type": "code",
   "execution_count": 71,
   "id": "f64902d9-1835-4aed-a2f4-ebf1669aae5b",
   "metadata": {
    "tags": []
   },
   "outputs": [],
   "source": [
    "X_test2[\"RoomService\"] = X_test2[\"RoomService\"].fillna(X_test2[\"RoomService\"].mean(skipna=True))"
   ]
  },
  {
   "cell_type": "code",
   "execution_count": 72,
   "id": "a0548521-e425-4838-995f-73f8217c6730",
   "metadata": {
    "tags": []
   },
   "outputs": [
    {
     "data": {
      "text/plain": [
       "458.07720329024676"
      ]
     },
     "execution_count": 72,
     "metadata": {},
     "output_type": "execute_result"
    }
   ],
   "source": [
    "X[\"FoodCourt\"].mean()"
   ]
  },
  {
   "cell_type": "code",
   "execution_count": 73,
   "id": "54238aa8-cd52-450f-9e2d-2cb0f2dc6f15",
   "metadata": {
    "tags": []
   },
   "outputs": [],
   "source": [
    "X[\"FoodCourt\"] = X[\"FoodCourt\"].fillna(X[\"FoodCourt\"].mean(skipna=True))"
   ]
  },
  {
   "cell_type": "code",
   "execution_count": 74,
   "id": "b92b605f-699b-4664-8e1a-e65259ebe26a",
   "metadata": {
    "tags": []
   },
   "outputs": [],
   "source": [
    "X_test2[\"FoodCourt\"] = X_test2[\"FoodCourt\"].fillna(X_test2[\"FoodCourt\"].mean(skipna=True))"
   ]
  },
  {
   "cell_type": "code",
   "execution_count": 75,
   "id": "717a51d6-dcd4-4556-b7f8-92a96a502bc3",
   "metadata": {
    "tags": []
   },
   "outputs": [
    {
     "data": {
      "text/plain": [
       "173.72916912197996"
      ]
     },
     "execution_count": 75,
     "metadata": {},
     "output_type": "execute_result"
    }
   ],
   "source": [
    "X[\"ShoppingMall\"].mean(skipna = True)"
   ]
  },
  {
   "cell_type": "code",
   "execution_count": 76,
   "id": "d363daff-95bf-4858-96ad-5f4bbeb60e9a",
   "metadata": {
    "tags": []
   },
   "outputs": [],
   "source": [
    "X[\"ShoppingMall\"] = X[\"ShoppingMall\"].fillna(X[\"ShoppingMall\"].mean(skipna = True))"
   ]
  },
  {
   "cell_type": "code",
   "execution_count": 77,
   "id": "ec53d1a6-1af7-410f-8df5-06b7780b094b",
   "metadata": {
    "tags": []
   },
   "outputs": [],
   "source": [
    "X_test2[\"ShoppingMall\"] = X_test2[\"ShoppingMall\"].fillna(X_test2[\"ShoppingMall\"].mean(skipna=True))"
   ]
  },
  {
   "cell_type": "code",
   "execution_count": 78,
   "id": "e7be0359-9d5c-4886-9c9a-5642af2f4c88",
   "metadata": {
    "tags": []
   },
   "outputs": [
    {
     "data": {
      "text/plain": [
       "311.1387779083431"
      ]
     },
     "execution_count": 78,
     "metadata": {},
     "output_type": "execute_result"
    }
   ],
   "source": [
    "X[\"Spa\"].mean()"
   ]
  },
  {
   "cell_type": "code",
   "execution_count": 79,
   "id": "f58f394b-44fd-4cc9-b260-cdd202a7225b",
   "metadata": {
    "tags": []
   },
   "outputs": [],
   "source": [
    "X[\"Spa\"] = X[\"Spa\"].fillna(X[\"Spa\"].mean(skipna = True))"
   ]
  },
  {
   "cell_type": "code",
   "execution_count": 80,
   "id": "de701c1a-3ea3-4c04-a566-a38a021d7910",
   "metadata": {
    "tags": []
   },
   "outputs": [],
   "source": [
    "X_test2[\"Spa\"] = X_test2[\"Spa\"].fillna(X_test2[\"Spa\"].mean(skipna=True))"
   ]
  },
  {
   "cell_type": "code",
   "execution_count": 81,
   "id": "4404e06b-572c-4055-a4b3-bba5471f6d59",
   "metadata": {
    "tags": []
   },
   "outputs": [
    {
     "data": {
      "text/plain": [
       "304.8547912992357"
      ]
     },
     "execution_count": 81,
     "metadata": {},
     "output_type": "execute_result"
    }
   ],
   "source": [
    "X[\"VRDeck\"].mean()"
   ]
  },
  {
   "cell_type": "code",
   "execution_count": 82,
   "id": "a5a95788-f60d-49be-b399-453e2fa69c1a",
   "metadata": {
    "tags": []
   },
   "outputs": [],
   "source": [
    "X[\"VRDeck\"] = X[\"VRDeck\"].fillna(X[\"VRDeck\"].mean(skipna = True))"
   ]
  },
  {
   "cell_type": "code",
   "execution_count": 83,
   "id": "80f1c6a3-da6f-4ba7-8d1c-fa809a2c188a",
   "metadata": {
    "tags": []
   },
   "outputs": [],
   "source": [
    "X_test2[\"VRDeck\"] = X_test2[\"VRDeck\"].fillna(X_test2[\"VRDeck\"].mean(skipna=True))"
   ]
  },
  {
   "cell_type": "code",
   "execution_count": 84,
   "id": "0f4f7e16-7936-4393-971d-f08ab1efc9e6",
   "metadata": {
    "tags": []
   },
   "outputs": [
    {
     "data": {
      "image/png": "[encoded data removed]",
      "text/plain": [
       "<Figure size 576x432 with 1 Axes>"
      ]
     },
     "metadata": {
      "needs_background": "light"
     },
     "output_type": "display_data"
    }
   ],
   "source": [
    "plt.figure(figsize=(8,6))\n",
    "sns.barplot(y = y,x =X[\"HomePlanet\"])\n",
    "plt.show()"
   ]
  },
  {
   "cell_type": "code",
   "execution_count": 85,
   "id": "decf8ccd-c9bd-4b85-b44d-e0f88c9ba5eb",
   "metadata": {
    "tags": []
   },
   "outputs": [],
   "source": [
    "X[\"HomePlanet\"] = X[\"HomePlanet\"].map({\"Europa\" : 1.5,\"Earth\" : 1,\"Mars\" : 1.25 })"
   ]
  },
  {
   "cell_type": "code",
   "execution_count": 86,
   "id": "89ea13a8-7a7f-4887-8797-e11695d35c00",
   "metadata": {
    "tags": []
   },
   "outputs": [],
   "source": [
    "X_test2[\"HomePlanet\"] = X_test2[\"HomePlanet\"].map({\"Europa\" : 1.5,\"Earth\" : 1,\"Mars\" : 1.25 })"
   ]
  },
  {
   "cell_type": "code",
   "execution_count": 87,
   "id": "1154231e-3289-40b8-a856-b4d6cf2b2003",
   "metadata": {
    "tags": []
   },
   "outputs": [
    {
     "data": {
      "image/png": "[encoded data removed]",
      "text/plain": [
       "<Figure size 576x432 with 1 Axes>"
      ]
     },
     "metadata": {
      "needs_background": "light"
     },
     "output_type": "display_data"
    }
   ],
   "source": [
    "plt.figure(figsize=(8,6))\n",
    "sns.barplot(y = y,x =X[\"CryoSleep\"])\n",
    "plt.show()"
   ]
  },
  {
   "cell_type": "code",
   "execution_count": 88,
   "id": "429591d5-25a5-4b47-a0ea-641c2c35edaf",
   "metadata": {
    "tags": []
   },
   "outputs": [],
   "source": [
    "X[\"CryoSleep\"] = X[\"CryoSleep\"].map({False : 0,True : 1})"
   ]
  },
  {
   "cell_type": "code",
   "execution_count": 89,
   "id": "c8b92344-5988-416f-9de9-13b046eadd9e",
   "metadata": {
    "tags": []
   },
   "outputs": [],
   "source": [
    "X_test2[\"CryoSleep\"] = X_test2[\"CryoSleep\"].map({False : 0,True : 1})"
   ]
  },
  {
   "cell_type": "code",
   "execution_count": 90,
   "id": "dc1ab663-ceb0-4172-9fe1-b6bcc7c8abc6",
   "metadata": {
    "tags": []
   },
   "outputs": [
    {
     "data": {
      "image/png": "[encoded data removed]",
      "text/plain": [
       "<Figure size 576x432 with 1 Axes>"
      ]
     },
     "metadata": {
      "needs_background": "light"
     },
     "output_type": "display_data"
    }
   ],
   "source": [
    "plt.figure(figsize=(8,6))\n",
    "sns.barplot(y = y,x =X[\"Destination\"])\n",
    "plt.show()"
   ]
  },
  {
   "cell_type": "code",
   "execution_count": 91,
   "id": "fb85f224-a124-4bbf-b589-4b4c5d2c760b",
   "metadata": {
    "tags": []
   },
   "outputs": [],
   "source": [
    "X = pd.get_dummies(X,columns=[\"Destination\"])"
   ]
  },
  {
   "cell_type": "code",
   "execution_count": 92,
   "id": "80582e56-e4c2-43af-b1e0-8bbbc8fff279",
   "metadata": {
    "tags": []
   },
   "outputs": [],
   "source": [
    "X_test2 = pd.get_dummies(X_test2,columns=[\"Destination\"])"
   ]
  },
  {
   "cell_type": "code",
   "execution_count": 93,
   "id": "a2fb2dbf-bc98-43e7-ad89-ecdc95fb4971",
   "metadata": {
    "tags": []
   },
   "outputs": [
    {
     "data": {
      "image/png": "[encoded data removed]",
      "text/plain": [
       "<Figure size 576x432 with 1 Axes>"
      ]
     },
     "metadata": {
      "needs_background": "light"
     },
     "output_type": "display_data"
    }
   ],
   "source": [
    "plt.figure(figsize=(8,6))\n",
    "sns.barplot(y = y,x =X[\"VIP\"])\n",
    "plt.show()"
   ]
  },
  {
   "cell_type": "code",
   "execution_count": 94,
   "id": "713e7dba-a9ba-4367-9ee8-cc544be7782a",
   "metadata": {
    "tags": []
   },
   "outputs": [],
   "source": [
    "# X = pd.get_dummies(X,columns=[\"VIP\"])"
   ]
  },
  {
   "cell_type": "code",
   "execution_count": 95,
   "id": "00e1238f-9fe9-4b6c-82f2-c2cb856d669b",
   "metadata": {
    "tags": []
   },
   "outputs": [],
   "source": [
    "from sklearn.preprocessing import LabelEncoder\n",
    "le = LabelEncoder()\n",
    "X[\"VIP\"] = le.fit_transform(X[\"VIP\"])"
   ]
  },
  {
   "cell_type": "code",
   "execution_count": 96,
   "id": "8cf47b92-d168-450d-b02d-8267e6b66445",
   "metadata": {
    "tags": []
   },
   "outputs": [],
   "source": [
    "# X_test2 = pd.get_dummies(X_test2,columns=[\"VIP\"])"
   ]
  },
  {
   "cell_type": "code",
   "execution_count": 97,
   "id": "402be3b0-f1ae-4b8f-bd77-d2711a8515a0",
   "metadata": {
    "tags": []
   },
   "outputs": [],
   "source": [
    "X_test2[\"VIP\"] = le.fit_transform(X_test2[\"VIP\"])"
   ]
  },
  {
   "cell_type": "code",
   "execution_count": 98,
   "id": "485d2d15-ce6c-4fd4-b51a-768080408899",
   "metadata": {
    "tags": []
   },
   "outputs": [
    {
     "data": {
      "text/html": [
       "<div>\n",
       "<style scoped>\n",
       "    .dataframe tbody tr th:only-of-type {\n",
       "        vertical-align: middle;\n",
       "    }\n",
       "\n",
       "    .dataframe tbody tr th {\n",
       "        vertical-align: top;\n",
       "    }\n",
       "\n",
       "    .dataframe thead th {\n",
       "        text-align: right;\n",
       "    }\n",
       "</style>\n",
       "<table border=\"1\" class=\"dataframe\">\n",
       "  <thead>\n",
       "    <tr style=\"text-align: right;\">\n",
       "      <th></th>\n",
       "      <th>HomePlanet</th>\n",
       "      <th>CryoSleep</th>\n",
       "      <th>Age</th>\n",
       "      <th>VIP</th>\n",
       "      <th>RoomService</th>\n",
       "      <th>FoodCourt</th>\n",
       "      <th>ShoppingMall</th>\n",
       "      <th>Spa</th>\n",
       "      <th>VRDeck</th>\n",
       "      <th>Cabin</th>\n",
       "      <th>Destination_55 Cancri e</th>\n",
       "      <th>Destination_PSO J318.5-22</th>\n",
       "      <th>Destination_TRAPPIST-1e</th>\n",
       "    </tr>\n",
       "  </thead>\n",
       "  <tbody>\n",
       "    <tr>\n",
       "      <th>0</th>\n",
       "      <td>1.5</td>\n",
       "      <td>0</td>\n",
       "      <td>39.0</td>\n",
       "      <td>0</td>\n",
       "      <td>0.0</td>\n",
       "      <td>0.0</td>\n",
       "      <td>0.0</td>\n",
       "      <td>0.0</td>\n",
       "      <td>0.0</td>\n",
       "      <td>B</td>\n",
       "      <td>0</td>\n",
       "      <td>0</td>\n",
       "      <td>1</td>\n",
       "    </tr>\n",
       "    <tr>\n",
       "      <th>1</th>\n",
       "      <td>1.0</td>\n",
       "      <td>0</td>\n",
       "      <td>24.0</td>\n",
       "      <td>0</td>\n",
       "      <td>109.0</td>\n",
       "      <td>9.0</td>\n",
       "      <td>25.0</td>\n",
       "      <td>549.0</td>\n",
       "      <td>44.0</td>\n",
       "      <td>F</td>\n",
       "      <td>0</td>\n",
       "      <td>0</td>\n",
       "      <td>1</td>\n",
       "    </tr>\n",
       "    <tr>\n",
       "      <th>2</th>\n",
       "      <td>1.5</td>\n",
       "      <td>0</td>\n",
       "      <td>58.0</td>\n",
       "      <td>1</td>\n",
       "      <td>43.0</td>\n",
       "      <td>3576.0</td>\n",
       "      <td>0.0</td>\n",
       "      <td>6715.0</td>\n",
       "      <td>49.0</td>\n",
       "      <td>A</td>\n",
       "      <td>0</td>\n",
       "      <td>0</td>\n",
       "      <td>1</td>\n",
       "    </tr>\n",
       "    <tr>\n",
       "      <th>3</th>\n",
       "      <td>1.5</td>\n",
       "      <td>0</td>\n",
       "      <td>33.0</td>\n",
       "      <td>0</td>\n",
       "      <td>0.0</td>\n",
       "      <td>1283.0</td>\n",
       "      <td>371.0</td>\n",
       "      <td>3329.0</td>\n",
       "      <td>193.0</td>\n",
       "      <td>A</td>\n",
       "      <td>0</td>\n",
       "      <td>0</td>\n",
       "      <td>1</td>\n",
       "    </tr>\n",
       "    <tr>\n",
       "      <th>4</th>\n",
       "      <td>1.0</td>\n",
       "      <td>0</td>\n",
       "      <td>16.0</td>\n",
       "      <td>0</td>\n",
       "      <td>303.0</td>\n",
       "      <td>70.0</td>\n",
       "      <td>151.0</td>\n",
       "      <td>565.0</td>\n",
       "      <td>2.0</td>\n",
       "      <td>F</td>\n",
       "      <td>0</td>\n",
       "      <td>0</td>\n",
       "      <td>1</td>\n",
       "    </tr>\n",
       "  </tbody>\n",
       "</table>\n",
       "</div>"
      ],
      "text/plain": [
       "   HomePlanet  CryoSleep   Age  VIP  RoomService  FoodCourt  ShoppingMall  \\\n",
       "0         1.5          0  39.0    0          0.0        0.0           0.0   \n",
       "1         1.0          0  24.0    0        109.0        9.0          25.0   \n",
       "2         1.5          0  58.0    1         43.0     3576.0           0.0   \n",
       "3         1.5          0  33.0    0          0.0     1283.0         371.0   \n",
       "4         1.0          0  16.0    0        303.0       70.0         151.0   \n",
       "\n",
       "      Spa  VRDeck Cabin  Destination_55 Cancri e  Destination_PSO J318.5-22  \\\n",
       "0     0.0     0.0     B                        0                          0   \n",
       "1   549.0    44.0     F                        0                          0   \n",
       "2  6715.0    49.0     A                        0                          0   \n",
       "3  3329.0   193.0     A                        0                          0   \n",
       "4   565.0     2.0     F                        0                          0   \n",
       "\n",
       "   Destination_TRAPPIST-1e  \n",
       "0                        1  \n",
       "1                        1  \n",
       "2                        1  \n",
       "3                        1  \n",
       "4                        1  "
      ]
     },
     "execution_count": 98,
     "metadata": {},
     "output_type": "execute_result"
    }
   ],
   "source": [
    " X.head()"
   ]
  },
  {
   "cell_type": "code",
   "execution_count": 99,
   "id": "861c9394-da25-4fa7-8a08-905756798bf6",
   "metadata": {
    "tags": []
   },
   "outputs": [
    {
     "data": {
      "image/png": "[encoded data removed]",
      "text/plain": [
       "<Figure size 576x432 with 1 Axes>"
      ]
     },
     "metadata": {
      "needs_background": "light"
     },
     "output_type": "display_data"
    }
   ],
   "source": [
    "plt.figure(figsize=(8,6))\n",
    "sns.barplot(y = y,x =X[\"Cabin\"])\n",
    "plt.show()"
   ]
  },
  {
   "cell_type": "code",
   "execution_count": 100,
   "id": "b79d6014-84af-4f25-aca0-115586dbe584",
   "metadata": {
    "tags": []
   },
   "outputs": [],
   "source": [
    "X = pd.get_dummies(X,columns=[\"Cabin\"])"
   ]
  },
  {
   "cell_type": "code",
   "execution_count": 101,
   "id": "9610b636-c96e-437b-8e76-4c41d88f9972",
   "metadata": {
    "tags": []
   },
   "outputs": [],
   "source": [
    "X_test2 = pd.get_dummies(X_test2,columns=[\"Cabin\"])"
   ]
  },
  {
   "cell_type": "code",
   "execution_count": 102,
   "id": "13fb1f8a-910a-4302-bf37-7666df139166",
   "metadata": {
    "tags": []
   },
   "outputs": [],
   "source": [
    "colm = X.columns"
   ]
  },
  {
   "cell_type": "code",
   "execution_count": 103,
   "id": "58c03e4f-34b0-4ebb-84dc-782fe80be637",
   "metadata": {
    "tags": []
   },
   "outputs": [],
   "source": [
    "from sklearn.model_selection import train_test_split\n",
    "X_train,X_test,y_train,y_test = train_test_split(X,y,test_size=0.3,random_state=58)"
   ]
  },
  {
   "cell_type": "code",
   "execution_count": 104,
   "id": "e3822b12-6aa4-4629-9a5e-d57a9cd9740d",
   "metadata": {
    "tags": []
   },
   "outputs": [],
   "source": [
    "from sklearn.preprocessing import StandardScaler\n",
    "sc = StandardScaler()\n",
    "\n",
    "X_train = sc.fit_transform(X_train)\n",
    "X_test = sc.transform(X_test)\n",
    "X_test2 = sc.transform(X_test2)\n",
    "X_test2 = pd.DataFrame(X_test2,columns = [colm])\n",
    "X_train = pd.DataFrame(X_train,columns = [colm])\n",
    "X_test = pd.DataFrame(X_test,columns = [colm])"
   ]
  },
  {
   "cell_type": "code",
   "execution_count": 105,
   "id": "4e5b354d-9ea6-4d4b-99ac-a5dbd39bcc43",
   "metadata": {
    "tags": []
   },
   "outputs": [
    {
     "name": "stdout",
     "output_type": "stream",
     "text": [
      "Logistic Regression Accuracy Score = % 78.68098159509202\n"
     ]
    }
   ],
   "source": [
    "from sklearn.linear_model import LogisticRegression\n",
    "from sklearn.metrics import accuracy_score\n",
    "\n",
    "lr = LogisticRegression(solver=\"liblinear\",random_state=58)\n",
    "lr.fit(X_train,y_train)\n",
    "predict_lr = lr.predict(X_test)\n",
    "print(\"Logistic Regression Accuracy Score = % \"+str(accuracy_score(y_test,predict_lr)*100))"
   ]
  },
  {
   "cell_type": "code",
   "execution_count": 106,
   "id": "fec5ce77-0e52-482c-a6bc-076d540b096f",
   "metadata": {
    "tags": []
   },
   "outputs": [
    {
     "name": "stdout",
     "output_type": "stream",
     "text": [
      "Xgboost Accuracy Score = % 80.329754601227\n"
     ]
    }
   ],
   "source": [
    "from xgboost import XGBClassifier\n",
    "xgb = XGBClassifier(n_estimators=345,max_depth=6,learning_rate=0.013, random_state=58)\n",
    "\n",
    "xgb.fit(X_train,y_train)\n",
    "predict_xgb = xgb.predict(X_test)\n",
    "print(\"Xgboost Accuracy Score = % \"+str(accuracy_score(y_test,predict_xgb)*100))"
   ]
  },
  {
   "cell_type": "code",
   "execution_count": 107,
   "id": "43c46cbc-8948-433f-8cc8-3aeaf686ef8b",
   "metadata": {},
   "outputs": [
    {
     "name": "stdout",
     "output_type": "stream",
     "text": [
      "Epoch 1/50\n",
      "381/381 [==============================] - 3s 5ms/step - loss: 0.5289 - accuracy: 0.7270 - val_loss: 0.4371 - val_accuracy: 0.7853\n",
      "Epoch 2/50\n",
      "381/381 [==============================] - 1s 3ms/step - loss: 0.4643 - accuracy: 0.7709 - val_loss: 0.4303 - val_accuracy: 0.7949\n",
      "Epoch 3/50\n",
      "381/381 [==============================] - 1s 3ms/step - loss: 0.4485 - accuracy: 0.7827 - val_loss: 0.4327 - val_accuracy: 0.7918\n",
      "Epoch 4/50\n",
      "381/381 [==============================] - 1s 3ms/step - loss: 0.4391 - accuracy: 0.7896 - val_loss: 0.4298 - val_accuracy: 0.7929\n",
      "Epoch 5/50\n",
      "381/381 [==============================] - 1s 3ms/step - loss: 0.4393 - accuracy: 0.7901 - val_loss: 0.4306 - val_accuracy: 0.7941\n",
      "Epoch 6/50\n",
      "381/381 [==============================] - 1s 3ms/step - loss: 0.4314 - accuracy: 0.7929 - val_loss: 0.4241 - val_accuracy: 0.7975\n",
      "Epoch 7/50\n",
      "381/381 [==============================] - 1s 3ms/step - loss: 0.4265 - accuracy: 0.7949 - val_loss: 0.4228 - val_accuracy: 0.7975\n",
      "Epoch 8/50\n",
      "381/381 [==============================] - 1s 3ms/step - loss: 0.4210 - accuracy: 0.7995 - val_loss: 0.4227 - val_accuracy: 0.7983\n",
      "Epoch 9/50\n",
      "381/381 [==============================] - 1s 3ms/step - loss: 0.4262 - accuracy: 0.7913 - val_loss: 0.4235 - val_accuracy: 0.7922\n",
      "Epoch 10/50\n",
      "381/381 [==============================] - 1s 3ms/step - loss: 0.4186 - accuracy: 0.7987 - val_loss: 0.4225 - val_accuracy: 0.7975\n",
      "Epoch 11/50\n",
      "381/381 [==============================] - 1s 3ms/step - loss: 0.4228 - accuracy: 0.7946 - val_loss: 0.4200 - val_accuracy: 0.8006\n",
      "Epoch 12/50\n",
      "381/381 [==============================] - 1s 3ms/step - loss: 0.4188 - accuracy: 0.7979 - val_loss: 0.4186 - val_accuracy: 0.7945\n",
      "Epoch 13/50\n",
      "381/381 [==============================] - 1s 3ms/step - loss: 0.4163 - accuracy: 0.8015 - val_loss: 0.4168 - val_accuracy: 0.7975\n",
      "Epoch 14/50\n",
      "381/381 [==============================] - 1s 3ms/step - loss: 0.4169 - accuracy: 0.7993 - val_loss: 0.4187 - val_accuracy: 0.8021\n",
      "Epoch 15/50\n",
      "381/381 [==============================] - 1s 3ms/step - loss: 0.4138 - accuracy: 0.8008 - val_loss: 0.4149 - val_accuracy: 0.8025\n",
      "Epoch 16/50\n",
      "381/381 [==============================] - 1s 3ms/step - loss: 0.4150 - accuracy: 0.7985 - val_loss: 0.4184 - val_accuracy: 0.7991\n",
      "Epoch 17/50\n",
      "381/381 [==============================] - 1s 3ms/step - loss: 0.4118 - accuracy: 0.8003 - val_loss: 0.4205 - val_accuracy: 0.7975\n",
      "Epoch 18/50\n",
      "381/381 [==============================] - 1s 3ms/step - loss: 0.4155 - accuracy: 0.8002 - val_loss: 0.4190 - val_accuracy: 0.8014\n",
      "Epoch 19/50\n",
      "381/381 [==============================] - 1s 3ms/step - loss: 0.4121 - accuracy: 0.8051 - val_loss: 0.4195 - val_accuracy: 0.7991\n",
      "Epoch 20/50\n",
      "381/381 [==============================] - 1s 3ms/step - loss: 0.4113 - accuracy: 0.8025 - val_loss: 0.4159 - val_accuracy: 0.7968\n",
      "Epoch 21/50\n",
      "381/381 [==============================] - 1s 3ms/step - loss: 0.4112 - accuracy: 0.8023 - val_loss: 0.4172 - val_accuracy: 0.8014\n",
      "Epoch 22/50\n",
      "381/381 [==============================] - 1s 3ms/step - loss: 0.4092 - accuracy: 0.8031 - val_loss: 0.4180 - val_accuracy: 0.7983\n",
      "Epoch 23/50\n",
      "381/381 [==============================] - 1s 3ms/step - loss: 0.4116 - accuracy: 0.8013 - val_loss: 0.4185 - val_accuracy: 0.7995\n",
      "Epoch 24/50\n",
      "381/381 [==============================] - 1s 3ms/step - loss: 0.4130 - accuracy: 0.8016 - val_loss: 0.4171 - val_accuracy: 0.8018\n",
      "Epoch 25/50\n",
      "381/381 [==============================] - 1s 3ms/step - loss: 0.4093 - accuracy: 0.8033 - val_loss: 0.4176 - val_accuracy: 0.7979\n",
      "Epoch 26/50\n",
      "381/381 [==============================] - 1s 3ms/step - loss: 0.4141 - accuracy: 0.8008 - val_loss: 0.4200 - val_accuracy: 0.8018\n",
      "Epoch 27/50\n",
      "381/381 [==============================] - 1s 3ms/step - loss: 0.4057 - accuracy: 0.8036 - val_loss: 0.4193 - val_accuracy: 0.7968\n",
      "Epoch 28/50\n",
      "381/381 [==============================] - 1s 3ms/step - loss: 0.4098 - accuracy: 0.8030 - val_loss: 0.4192 - val_accuracy: 0.7983\n",
      "Epoch 29/50\n",
      "381/381 [==============================] - 1s 3ms/step - loss: 0.4058 - accuracy: 0.8025 - val_loss: 0.4162 - val_accuracy: 0.7956\n",
      "Epoch 30/50\n",
      "381/381 [==============================] - 1s 3ms/step - loss: 0.4041 - accuracy: 0.8051 - val_loss: 0.4258 - val_accuracy: 0.7991\n",
      "Epoch 31/50\n",
      "381/381 [==============================] - 1s 3ms/step - loss: 0.4044 - accuracy: 0.8049 - val_loss: 0.4197 - val_accuracy: 0.7960\n",
      "Epoch 32/50\n",
      "381/381 [==============================] - 1s 3ms/step - loss: 0.4038 - accuracy: 0.8067 - val_loss: 0.4183 - val_accuracy: 0.7972\n",
      "Epoch 33/50\n",
      "381/381 [==============================] - 1s 3ms/step - loss: 0.4032 - accuracy: 0.8059 - val_loss: 0.4214 - val_accuracy: 0.8018\n",
      "Epoch 34/50\n",
      "381/381 [==============================] - 1s 3ms/step - loss: 0.4048 - accuracy: 0.8084 - val_loss: 0.4218 - val_accuracy: 0.7975\n",
      "Epoch 35/50\n",
      "381/381 [==============================] - 1s 3ms/step - loss: 0.4035 - accuracy: 0.8094 - val_loss: 0.4203 - val_accuracy: 0.7968\n",
      "Epoch 36/50\n",
      "381/381 [==============================] - 1s 3ms/step - loss: 0.4020 - accuracy: 0.8066 - val_loss: 0.4212 - val_accuracy: 0.8021\n",
      "Epoch 37/50\n",
      "381/381 [==============================] - 1s 3ms/step - loss: 0.4036 - accuracy: 0.8021 - val_loss: 0.4211 - val_accuracy: 0.7983\n",
      "Epoch 38/50\n",
      "381/381 [==============================] - 1s 3ms/step - loss: 0.4025 - accuracy: 0.8051 - val_loss: 0.4195 - val_accuracy: 0.7983\n",
      "Epoch 39/50\n",
      "381/381 [==============================] - 1s 3ms/step - loss: 0.4018 - accuracy: 0.8076 - val_loss: 0.4179 - val_accuracy: 0.7983\n",
      "Epoch 40/50\n",
      "381/381 [==============================] - 1s 3ms/step - loss: 0.4048 - accuracy: 0.8085 - val_loss: 0.4217 - val_accuracy: 0.7995\n",
      "Epoch 41/50\n",
      "381/381 [==============================] - 1s 3ms/step - loss: 0.4023 - accuracy: 0.8061 - val_loss: 0.4217 - val_accuracy: 0.7995\n",
      "Epoch 42/50\n",
      "381/381 [==============================] - 1s 3ms/step - loss: 0.4019 - accuracy: 0.8058 - val_loss: 0.4213 - val_accuracy: 0.8006\n",
      "Epoch 43/50\n",
      "381/381 [==============================] - 1s 3ms/step - loss: 0.4052 - accuracy: 0.8074 - val_loss: 0.4191 - val_accuracy: 0.8014\n",
      "Epoch 44/50\n",
      "381/381 [==============================] - 1s 3ms/step - loss: 0.4018 - accuracy: 0.8054 - val_loss: 0.4191 - val_accuracy: 0.8014\n",
      "Epoch 45/50\n",
      "381/381 [==============================] - 1s 3ms/step - loss: 0.3964 - accuracy: 0.8141 - val_loss: 0.4222 - val_accuracy: 0.8018\n",
      "Epoch 46/50\n",
      "381/381 [==============================] - 1s 3ms/step - loss: 0.3987 - accuracy: 0.8105 - val_loss: 0.4212 - val_accuracy: 0.7995\n",
      "Epoch 47/50\n",
      "381/381 [==============================] - 1s 3ms/step - loss: 0.4023 - accuracy: 0.8067 - val_loss: 0.4196 - val_accuracy: 0.7952\n",
      "Epoch 48/50\n",
      "381/381 [==============================] - 1s 3ms/step - loss: 0.4023 - accuracy: 0.8061 - val_loss: 0.4241 - val_accuracy: 0.7968\n",
      "Epoch 49/50\n",
      "381/381 [==============================] - 1s 3ms/step - loss: 0.4004 - accuracy: 0.8072 - val_loss: 0.4247 - val_accuracy: 0.7972\n",
      "Epoch 50/50\n",
      "381/381 [==============================] - 1s 4ms/step - loss: 0.3993 - accuracy: 0.8094 - val_loss: 0.4228 - val_accuracy: 0.8018\n"
     ]
    },
    {
     "data": {
      "text/plain": [
       "<keras.callbacks.History at 0x2b607765a20>"
      ]
     },
     "execution_count": 107,
     "metadata": {},
     "output_type": "execute_result"
    }
   ],
   "source": [
    "import tensorflow as tf\n",
    "model = tf.keras.models.Sequential()\n",
    "model.add(tf.keras.layers.Dense(units=128,activation=\"relu\"))\n",
    "model.add(tf.keras.layers.Dropout(0.5))\n",
    "model.add(tf.keras.layers.Dense(units=128,activation=\"relu\"))\n",
    "model.add(tf.keras.layers.Dropout(0.5))\n",
    "model.add(tf.keras.layers.Dense(units=1,activation=\"sigmoid\"))\n",
    "model.compile(optimizer = \"adam\",loss=\"binary_crossentropy\",metrics=[\"accuracy\"])\n",
    "model.fit(X_train,y_train,epochs=50,batch_size = 16,validation_data=(X_test,y_test))"
   ]
  },
  {
   "cell_type": "code",
   "execution_count": 108,
   "id": "9050b675-24b3-4c55-9118-abeefb450fab",
   "metadata": {
    "tags": []
   },
   "outputs": [
    {
     "name": "stdout",
     "output_type": "stream",
     "text": [
      "134/134 [==============================] - 0s 2ms/step\n"
     ]
    }
   ],
   "source": [
    "prediction_keras = model.predict(X_test2)\n",
    "subm_pred  = []"
   ]
  },
  {
   "cell_type": "code",
   "execution_count": 109,
   "id": "b4244fdc-6964-44c2-8819-3b3d6b6980fd",
   "metadata": {
    "tags": []
   },
   "outputs": [],
   "source": [
    "subm_pred = []"
   ]
  },
  {
   "cell_type": "code",
   "execution_count": 111,
   "id": "bc831124-e944-4436-88bc-798d016c4871",
   "metadata": {
    "tags": []
   },
   "outputs": [],
   "source": [
    "for i in prediction_keras:\n",
    "    if i >= 0.5:\n",
    "        subm_pred.append(True)\n",
    "    else:\n",
    "        subm_pred.append(False)\n",
    "        "
   ]
  },
  {
   "cell_type": "code",
   "execution_count": 112,
   "id": "5422f8d1-464c-4ddc-b1db-29d68e998fc6",
   "metadata": {
    "tags": []
   },
   "outputs": [],
   "source": [
    "ids = test_data[\"PassengerId\"].values\n",
    "df = pd.DataFrame({\"PassengerId\" : ids,\"Tran\" : subm_pred})\n",
    "df.to_csv(\"submission.csv\",index=False)"
   ]
  },
  {
   "cell_type": "markdown",
   "id": "2ded1eeb-7448-4f87-8e4f-7351fdf360a3",
   "metadata": {},
   "source": [
    "**I got 80 percent accuracy with my model's prediction in the kaggle contest.**"
   ]
  }
 ],
 "metadata": {
  "kernelspec": {
   "display_name": "Python 3 (ipykernel)",
   "language": "python",
   "name": "python3"
  },
  "language_info": {
   "codemirror_mode": {
    "name": "ipython",
    "version": 3
   },
   "file_extension": ".py",
   "mimetype": "text/x-python",
   "name": "python",
   "nbconvert_exporter": "python",
   "pygments_lexer": "ipython3",
   "version": "3.10.5"
  }
 },
 "nbformat": 4,
 "nbformat_minor": 5
}
