{
  "cells": [
    {
      "cell_type": "markdown",
      "source": [
        "**I created a model using the imbd dataset with recurrent neural network.**"
      ],
      "metadata": {
        "id": "ZMFBK1Hh6kSX"
      },
      "id": "ZMFBK1Hh6kSX"
    },
    {
      "cell_type": "code",
      "execution_count": 3,
      "id": "131d0ebf-8830-4410-a0c7-77305d3d42b2",
      "metadata": {
        "tags": [],
        "id": "131d0ebf-8830-4410-a0c7-77305d3d42b2"
      },
      "outputs": [],
      "source": [
        "import pandas as pd\n",
        "import tensorflow as tf\n",
        "import warnings\n",
        "import numpy as np\n",
        "warnings.simplefilter(action='ignore', category=FutureWarning)"
      ]
    },
    {
      "cell_type": "code",
      "execution_count": 4,
      "id": "e18ec4d7-2c7e-44a0-97d5-80597c940b93",
      "metadata": {
        "tags": [],
        "colab": {
          "base_uri": "https://localhost:8080/"
        },
        "id": "e18ec4d7-2c7e-44a0-97d5-80597c940b93",
        "outputId": "b4c5326b-5d55-4c74-94bb-3d4c20a4d254"
      },
      "outputs": [
        {
          "output_type": "stream",
          "name": "stdout",
          "text": [
            "Downloading data from https://storage.googleapis.com/tensorflow/tf-keras-datasets/imdb.npz\n",
            "17464789/17464789 [==============================] - 0s 0us/step\n"
          ]
        }
      ],
      "source": [
        "(X_train,y_train) , (X_test,y_test) = tf.keras.datasets.imdb.load_data(num_words = 12500)"
      ]
    },
    {
      "cell_type": "code",
      "execution_count": 5,
      "id": "95021321-207c-421f-a594-0271cc8d6242",
      "metadata": {
        "tags": [],
        "id": "95021321-207c-421f-a594-0271cc8d6242"
      },
      "outputs": [],
      "source": [
        "X = np.concatenate((X_train,X_test), axis = 0)\n",
        "y = np.concatenate((y_train,y_test), axis = 0)"
      ]
    },
    {
      "cell_type": "code",
      "source": [
        "X"
      ],
      "metadata": {
        "colab": {
          "base_uri": "https://localhost:8080/"
        },
        "id": "FjLxGUow6cdr",
        "outputId": "cea0789c-e690-4bae-b60b-d819f41df6f6"
      },
      "id": "FjLxGUow6cdr",
      "execution_count": 20,
      "outputs": [
        {
          "output_type": "execute_result",
          "data": {
            "text/plain": [
              "array([[   0,    0,    0, ...,   19,  178,   32],\n",
              "       [   0,    0,    0, ...,   16,  145,   95],\n",
              "       [   0,    0,    0, ...,    7,  129,  113],\n",
              "       ...,\n",
              "       [   0,    0,    0, ...,   21,  846, 5518],\n",
              "       [   0,    0,    0, ..., 2302,    7,  470],\n",
              "       [   0,    0,    0, ...,   34, 2005, 2643]], dtype=int32)"
            ]
          },
          "metadata": {},
          "execution_count": 20
        }
      ]
    },
    {
      "cell_type": "code",
      "source": [
        "y"
      ],
      "metadata": {
        "colab": {
          "base_uri": "https://localhost:8080/"
        },
        "id": "74HEsOAB6hLo",
        "outputId": "d4efeac7-26d1-4833-d6a9-39e5548b0a66"
      },
      "id": "74HEsOAB6hLo",
      "execution_count": 21,
      "outputs": [
        {
          "output_type": "execute_result",
          "data": {
            "text/plain": [
              "array([1, 0, 0, ..., 0, 0, 0])"
            ]
          },
          "metadata": {},
          "execution_count": 21
        }
      ]
    },
    {
      "cell_type": "code",
      "execution_count": 6,
      "id": "e85c5385-0ad6-434d-92a0-96c7cd35987c",
      "metadata": {
        "tags": [],
        "id": "e85c5385-0ad6-434d-92a0-96c7cd35987c"
      },
      "outputs": [],
      "source": [
        "X = tf.keras.preprocessing.sequence.pad_sequences(X, maxlen=1350)"
      ]
    },
    {
      "cell_type": "code",
      "execution_count": 7,
      "id": "f5ed23ca-6632-436b-b42b-dbef620dba01",
      "metadata": {
        "tags": [],
        "colab": {
          "base_uri": "https://localhost:8080/"
        },
        "id": "f5ed23ca-6632-436b-b42b-dbef620dba01",
        "outputId": "f3df9dc7-d464-41d0-c5cf-22bea3f956d5"
      },
      "outputs": [
        {
          "output_type": "stream",
          "name": "stdout",
          "text": [
            "50000\n",
            "50000\n"
          ]
        }
      ],
      "source": [
        "print(len(X))\n",
        "print(len(y))"
      ]
    },
    {
      "cell_type": "code",
      "execution_count": 8,
      "id": "9e7057df-3542-46aa-b309-6f97e3bdfb81",
      "metadata": {
        "tags": [],
        "id": "9e7057df-3542-46aa-b309-6f97e3bdfb81"
      },
      "outputs": [],
      "source": [
        "from sklearn.model_selection import train_test_split\n",
        "X_train,X_test,y_train,y_test = train_test_split(X,y,test_size=0.2,random_state=58)"
      ]
    },
    {
      "cell_type": "code",
      "execution_count": 9,
      "id": "05a393e3-8506-460e-8f0b-71a3f35840aa",
      "metadata": {
        "tags": [],
        "id": "05a393e3-8506-460e-8f0b-71a3f35840aa"
      },
      "outputs": [],
      "source": [
        "X_val = X_test[5000:]\n",
        "y_val = y_test[5000:]\n",
        "X_test = X_test[:5000]\n",
        "y_test = y_test[:5000]"
      ]
    },
    {
      "cell_type": "code",
      "execution_count": 10,
      "id": "7e987a51-6dc7-495c-aee6-c02b0c6e5e1c",
      "metadata": {
        "tags": [],
        "id": "7e987a51-6dc7-495c-aee6-c02b0c6e5e1c"
      },
      "outputs": [],
      "source": [
        "rnn_model = tf.keras.models.Sequential()"
      ]
    },
    {
      "cell_type": "code",
      "execution_count": 11,
      "id": "9a4396a6-e2a1-494d-876a-e5cb18fd5254",
      "metadata": {
        "tags": [],
        "id": "9a4396a6-e2a1-494d-876a-e5cb18fd5254"
      },
      "outputs": [],
      "source": [
        "rnn_model.add(tf.keras.layers.Embedding(input_dim=12500,output_dim=300))"
      ]
    },
    {
      "cell_type": "code",
      "execution_count": 12,
      "id": "108a76cc-02c6-4ca2-aac3-b6e470ed2293",
      "metadata": {
        "tags": [],
        "id": "108a76cc-02c6-4ca2-aac3-b6e470ed2293"
      },
      "outputs": [],
      "source": [
        "rnn_model.add(tf.keras.layers.Dropout((0.5)))"
      ]
    },
    {
      "cell_type": "code",
      "execution_count": 13,
      "id": "d853c926-ab59-47fb-90e6-951967814ecc",
      "metadata": {
        "tags": [],
        "id": "d853c926-ab59-47fb-90e6-951967814ecc"
      },
      "outputs": [],
      "source": [
        "rnn_model.add(tf.keras.layers.LSTM(256 ,return_sequences= True))\n",
        "rnn_model.add(tf.keras.layers.Dropout((0.5)))"
      ]
    },
    {
      "cell_type": "code",
      "execution_count": 14,
      "id": "36a9dcb4-9986-423c-a579-4271a1a85155",
      "metadata": {
        "id": "36a9dcb4-9986-423c-a579-4271a1a85155"
      },
      "outputs": [],
      "source": [
        "rnn_model.add(tf.keras.layers.LSTM(256))\n",
        "rnn_model.add(tf.keras.layers.Dropout((0.5)))"
      ]
    },
    {
      "cell_type": "code",
      "execution_count": 15,
      "id": "09743444-d658-4b1c-81ed-95d5aecd2d84",
      "metadata": {
        "tags": [],
        "id": "09743444-d658-4b1c-81ed-95d5aecd2d84"
      },
      "outputs": [],
      "source": [
        "rnn_model.add(tf.keras.layers.Dense(units=128,activation=\"relu\"))\n",
        "rnn_model.add(tf.keras.layers.Dropout((0.5)))"
      ]
    },
    {
      "cell_type": "code",
      "execution_count": 16,
      "id": "889719ca-b346-4eac-914d-768ee82a3111",
      "metadata": {
        "tags": [],
        "id": "889719ca-b346-4eac-914d-768ee82a3111"
      },
      "outputs": [],
      "source": [
        "rnn_model.add(tf.keras.layers.Dense(units=1,activation=\"sigmoid\"))"
      ]
    },
    {
      "cell_type": "code",
      "execution_count": 17,
      "id": "f311d7f7-ede9-4c61-afc6-fda7ff13c178",
      "metadata": {
        "tags": [],
        "id": "f311d7f7-ede9-4c61-afc6-fda7ff13c178"
      },
      "outputs": [],
      "source": [
        "rnn_model.compile(optimizer=\"adam\",loss = \"binary_crossentropy\",metrics=[\"accuracy\"])"
      ]
    },
    {
      "cell_type": "code",
      "execution_count": 18,
      "id": "55ce0160-64bd-48f2-9041-4f852dff071d",
      "metadata": {
        "tags": [],
        "colab": {
          "base_uri": "https://localhost:8080/"
        },
        "id": "55ce0160-64bd-48f2-9041-4f852dff071d",
        "outputId": "03c2ec3d-9ead-400d-ea9a-d33ac759e0e6"
      },
      "outputs": [
        {
          "output_type": "stream",
          "name": "stdout",
          "text": [
            "Epoch 1/5\n",
            "313/313 [==============================] - 185s 552ms/step - loss: 0.4484 - accuracy: 0.7922 - val_loss: 0.3304 - val_accuracy: 0.8630\n",
            "Epoch 2/5\n",
            "313/313 [==============================] - 167s 535ms/step - loss: 0.2869 - accuracy: 0.8873 - val_loss: 0.2872 - val_accuracy: 0.8810\n",
            "Epoch 3/5\n",
            "313/313 [==============================] - 160s 510ms/step - loss: 0.2145 - accuracy: 0.9194 - val_loss: 0.2761 - val_accuracy: 0.8892\n",
            "Epoch 4/5\n",
            "313/313 [==============================] - 156s 498ms/step - loss: 0.1707 - accuracy: 0.9387 - val_loss: 0.2984 - val_accuracy: 0.8732\n",
            "Epoch 5/5\n",
            "313/313 [==============================] - 154s 492ms/step - loss: 0.1456 - accuracy: 0.9471 - val_loss: 0.2900 - val_accuracy: 0.8906\n"
          ]
        }
      ],
      "source": [
        "fitted_rnn_model = rnn_model.fit(X_train,y_train,epochs=5,batch_size = 128,validation_data=(X_val,y_val))"
      ]
    },
    {
      "cell_type": "code",
      "source": [
        "rnn_model.evaluate(X_test,y_test)"
      ],
      "metadata": {
        "colab": {
          "base_uri": "https://localhost:8080/"
        },
        "id": "N38uAbCXzihu",
        "outputId": "88cf685e-71e4-44cc-8a4e-f82890da524a"
      },
      "id": "N38uAbCXzihu",
      "execution_count": 19,
      "outputs": [
        {
          "output_type": "stream",
          "name": "stdout",
          "text": [
            "157/157 [==============================] - 10s 65ms/step - loss: 0.3082 - accuracy: 0.8798\n"
          ]
        },
        {
          "output_type": "execute_result",
          "data": {
            "text/plain": [
              "[0.30822575092315674, 0.879800021648407]"
            ]
          },
          "metadata": {},
          "execution_count": 19
        }
      ]
    }
  ],
  "metadata": {
    "kernelspec": {
      "display_name": "Python 3 (ipykernel)",
      "language": "python",
      "name": "python3"
    },
    "language_info": {
      "codemirror_mode": {
        "name": "ipython",
        "version": 3
      },
      "file_extension": ".py",
      "mimetype": "text/x-python",
      "name": "python",
      "nbconvert_exporter": "python",
      "pygments_lexer": "ipython3",
      "version": "3.10.5"
    },
    "colab": {
      "provenance": []
    },
    "accelerator": "GPU",
    "gpuClass": "standard"
  },
  "nbformat": 4,
  "nbformat_minor": 5
}